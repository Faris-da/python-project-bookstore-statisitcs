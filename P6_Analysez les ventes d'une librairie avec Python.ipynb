{
 "cells": [
  {
   "cell_type": "markdown",
   "id": "91ed7eaa",
   "metadata": {},
   "source": [
    "# Import package"
   ]
  },
  {
   "cell_type": "code",
   "execution_count": 1,
   "id": "dcc29f2d",
   "metadata": {},
   "outputs": [],
   "source": [
    "import numpy as np\n",
    "import pandas as pd\n",
    "import matplotlib.pyplot as plt\n",
    "import seaborn as sns\n",
    "import scipy.stats as st"
   ]
  },
  {
   "cell_type": "markdown",
   "id": "f25e936f",
   "metadata": {},
   "source": [
    "# Import DATA \n"
   ]
  },
  {
   "cell_type": "code",
   "execution_count": 2,
   "id": "bd541c24",
   "metadata": {},
   "outputs": [],
   "source": [
    "customers = pd.read_csv('C:/Users/benmi/Documents/Data Analyst/P_6/customers.csv')\n",
    "products = pd.read_csv('C:/Users/benmi/Documents/Data Analyst/P_6/products.csv')\n",
    "transactions = pd.read_csv('C:/Users/benmi/Documents/Data Analyst/P_6/transactions.csv')"
   ]
  },
  {
   "cell_type": "markdown",
   "id": "76cf2c53",
   "metadata": {},
   "source": [
    "## Exploration de la Data"
   ]
  },
  {
   "cell_type": "code",
   "execution_count": 3,
   "id": "ec47087a",
   "metadata": {
    "scrolled": true
   },
   "outputs": [
    {
     "data": {
      "text/html": [
       "<div>\n",
       "<style scoped>\n",
       "    .dataframe tbody tr th:only-of-type {\n",
       "        vertical-align: middle;\n",
       "    }\n",
       "\n",
       "    .dataframe tbody tr th {\n",
       "        vertical-align: top;\n",
       "    }\n",
       "\n",
       "    .dataframe thead th {\n",
       "        text-align: right;\n",
       "    }\n",
       "</style>\n",
       "<table border=\"1\" class=\"dataframe\">\n",
       "  <thead>\n",
       "    <tr style=\"text-align: right;\">\n",
       "      <th></th>\n",
       "      <th>client_id</th>\n",
       "      <th>sex</th>\n",
       "      <th>birth</th>\n",
       "    </tr>\n",
       "  </thead>\n",
       "  <tbody>\n",
       "    <tr>\n",
       "      <th>0</th>\n",
       "      <td>c_4410</td>\n",
       "      <td>f</td>\n",
       "      <td>1967</td>\n",
       "    </tr>\n",
       "    <tr>\n",
       "      <th>1</th>\n",
       "      <td>c_7839</td>\n",
       "      <td>f</td>\n",
       "      <td>1975</td>\n",
       "    </tr>\n",
       "    <tr>\n",
       "      <th>2</th>\n",
       "      <td>c_1699</td>\n",
       "      <td>f</td>\n",
       "      <td>1984</td>\n",
       "    </tr>\n",
       "    <tr>\n",
       "      <th>3</th>\n",
       "      <td>c_5961</td>\n",
       "      <td>f</td>\n",
       "      <td>1962</td>\n",
       "    </tr>\n",
       "    <tr>\n",
       "      <th>4</th>\n",
       "      <td>c_5320</td>\n",
       "      <td>m</td>\n",
       "      <td>1943</td>\n",
       "    </tr>\n",
       "  </tbody>\n",
       "</table>\n",
       "</div>"
      ],
      "text/plain": [
       "  client_id sex  birth\n",
       "0    c_4410   f   1967\n",
       "1    c_7839   f   1975\n",
       "2    c_1699   f   1984\n",
       "3    c_5961   f   1962\n",
       "4    c_5320   m   1943"
      ]
     },
     "execution_count": 3,
     "metadata": {},
     "output_type": "execute_result"
    }
   ],
   "source": [
    "customers.head()"
   ]
  },
  {
   "cell_type": "code",
   "execution_count": 4,
   "id": "aa3f1bef",
   "metadata": {},
   "outputs": [
    {
     "name": "stdout",
     "output_type": "stream",
     "text": [
      "<class 'pandas.core.frame.DataFrame'>\n",
      "RangeIndex: 8623 entries, 0 to 8622\n",
      "Data columns (total 3 columns):\n",
      " #   Column     Non-Null Count  Dtype \n",
      "---  ------     --------------  ----- \n",
      " 0   client_id  8623 non-null   object\n",
      " 1   sex        8623 non-null   object\n",
      " 2   birth      8623 non-null   int64 \n",
      "dtypes: int64(1), object(2)\n",
      "memory usage: 202.2+ KB\n"
     ]
    }
   ],
   "source": [
    "customers.info()"
   ]
  },
  {
   "cell_type": "code",
   "execution_count": 5,
   "id": "02aae0d5",
   "metadata": {
    "scrolled": true
   },
   "outputs": [
    {
     "data": {
      "text/html": [
       "<div>\n",
       "<style scoped>\n",
       "    .dataframe tbody tr th:only-of-type {\n",
       "        vertical-align: middle;\n",
       "    }\n",
       "\n",
       "    .dataframe tbody tr th {\n",
       "        vertical-align: top;\n",
       "    }\n",
       "\n",
       "    .dataframe thead th {\n",
       "        text-align: right;\n",
       "    }\n",
       "</style>\n",
       "<table border=\"1\" class=\"dataframe\">\n",
       "  <thead>\n",
       "    <tr style=\"text-align: right;\">\n",
       "      <th></th>\n",
       "      <th>id_prod</th>\n",
       "      <th>price</th>\n",
       "      <th>categ</th>\n",
       "    </tr>\n",
       "  </thead>\n",
       "  <tbody>\n",
       "    <tr>\n",
       "      <th>0</th>\n",
       "      <td>0_1421</td>\n",
       "      <td>19.99</td>\n",
       "      <td>0</td>\n",
       "    </tr>\n",
       "    <tr>\n",
       "      <th>1</th>\n",
       "      <td>0_1368</td>\n",
       "      <td>5.13</td>\n",
       "      <td>0</td>\n",
       "    </tr>\n",
       "    <tr>\n",
       "      <th>2</th>\n",
       "      <td>0_731</td>\n",
       "      <td>17.99</td>\n",
       "      <td>0</td>\n",
       "    </tr>\n",
       "    <tr>\n",
       "      <th>3</th>\n",
       "      <td>1_587</td>\n",
       "      <td>4.99</td>\n",
       "      <td>1</td>\n",
       "    </tr>\n",
       "    <tr>\n",
       "      <th>4</th>\n",
       "      <td>0_1507</td>\n",
       "      <td>3.99</td>\n",
       "      <td>0</td>\n",
       "    </tr>\n",
       "  </tbody>\n",
       "</table>\n",
       "</div>"
      ],
      "text/plain": [
       "  id_prod  price  categ\n",
       "0  0_1421  19.99      0\n",
       "1  0_1368   5.13      0\n",
       "2   0_731  17.99      0\n",
       "3   1_587   4.99      1\n",
       "4  0_1507   3.99      0"
      ]
     },
     "execution_count": 5,
     "metadata": {},
     "output_type": "execute_result"
    }
   ],
   "source": [
    "products.head()"
   ]
  },
  {
   "cell_type": "code",
   "execution_count": 7,
   "id": "90789872",
   "metadata": {
    "scrolled": true
   },
   "outputs": [
    {
     "name": "stdout",
     "output_type": "stream",
     "text": [
      "<class 'pandas.core.frame.DataFrame'>\n",
      "RangeIndex: 3287 entries, 0 to 3286\n",
      "Data columns (total 3 columns):\n",
      " #   Column   Non-Null Count  Dtype  \n",
      "---  ------   --------------  -----  \n",
      " 0   id_prod  3287 non-null   object \n",
      " 1   price    3287 non-null   float64\n",
      " 2   categ    3287 non-null   int64  \n",
      "dtypes: float64(1), int64(1), object(1)\n",
      "memory usage: 77.2+ KB\n"
     ]
    }
   ],
   "source": [
    "products.info()"
   ]
  },
  {
   "cell_type": "code",
   "execution_count": 8,
   "id": "fd6dc05e",
   "metadata": {},
   "outputs": [
    {
     "data": {
      "text/html": [
       "<div>\n",
       "<style scoped>\n",
       "    .dataframe tbody tr th:only-of-type {\n",
       "        vertical-align: middle;\n",
       "    }\n",
       "\n",
       "    .dataframe tbody tr th {\n",
       "        vertical-align: top;\n",
       "    }\n",
       "\n",
       "    .dataframe thead th {\n",
       "        text-align: right;\n",
       "    }\n",
       "</style>\n",
       "<table border=\"1\" class=\"dataframe\">\n",
       "  <thead>\n",
       "    <tr style=\"text-align: right;\">\n",
       "      <th></th>\n",
       "      <th>price</th>\n",
       "      <th>categ</th>\n",
       "    </tr>\n",
       "  </thead>\n",
       "  <tbody>\n",
       "    <tr>\n",
       "      <th>count</th>\n",
       "      <td>3287.000000</td>\n",
       "      <td>3287.000000</td>\n",
       "    </tr>\n",
       "    <tr>\n",
       "      <th>mean</th>\n",
       "      <td>21.856641</td>\n",
       "      <td>0.370246</td>\n",
       "    </tr>\n",
       "    <tr>\n",
       "      <th>std</th>\n",
       "      <td>29.847908</td>\n",
       "      <td>0.615387</td>\n",
       "    </tr>\n",
       "    <tr>\n",
       "      <th>min</th>\n",
       "      <td>-1.000000</td>\n",
       "      <td>0.000000</td>\n",
       "    </tr>\n",
       "    <tr>\n",
       "      <th>25%</th>\n",
       "      <td>6.990000</td>\n",
       "      <td>0.000000</td>\n",
       "    </tr>\n",
       "    <tr>\n",
       "      <th>50%</th>\n",
       "      <td>13.060000</td>\n",
       "      <td>0.000000</td>\n",
       "    </tr>\n",
       "    <tr>\n",
       "      <th>75%</th>\n",
       "      <td>22.990000</td>\n",
       "      <td>1.000000</td>\n",
       "    </tr>\n",
       "    <tr>\n",
       "      <th>max</th>\n",
       "      <td>300.000000</td>\n",
       "      <td>2.000000</td>\n",
       "    </tr>\n",
       "  </tbody>\n",
       "</table>\n",
       "</div>"
      ],
      "text/plain": [
       "             price        categ\n",
       "count  3287.000000  3287.000000\n",
       "mean     21.856641     0.370246\n",
       "std      29.847908     0.615387\n",
       "min      -1.000000     0.000000\n",
       "25%       6.990000     0.000000\n",
       "50%      13.060000     0.000000\n",
       "75%      22.990000     1.000000\n",
       "max     300.000000     2.000000"
      ]
     },
     "execution_count": 8,
     "metadata": {},
     "output_type": "execute_result"
    }
   ],
   "source": [
    "products.describe()"
   ]
  },
  {
   "cell_type": "code",
   "execution_count": 9,
   "id": "95dcf150",
   "metadata": {},
   "outputs": [
    {
     "data": {
      "text/html": [
       "<div>\n",
       "<style scoped>\n",
       "    .dataframe tbody tr th:only-of-type {\n",
       "        vertical-align: middle;\n",
       "    }\n",
       "\n",
       "    .dataframe tbody tr th {\n",
       "        vertical-align: top;\n",
       "    }\n",
       "\n",
       "    .dataframe thead th {\n",
       "        text-align: right;\n",
       "    }\n",
       "</style>\n",
       "<table border=\"1\" class=\"dataframe\">\n",
       "  <thead>\n",
       "    <tr style=\"text-align: right;\">\n",
       "      <th></th>\n",
       "      <th>id_prod</th>\n",
       "      <th>date</th>\n",
       "      <th>session_id</th>\n",
       "      <th>client_id</th>\n",
       "    </tr>\n",
       "  </thead>\n",
       "  <tbody>\n",
       "    <tr>\n",
       "      <th>0</th>\n",
       "      <td>0_1518</td>\n",
       "      <td>2022-05-20 13:21:29.043970</td>\n",
       "      <td>s_211425</td>\n",
       "      <td>c_103</td>\n",
       "    </tr>\n",
       "    <tr>\n",
       "      <th>1</th>\n",
       "      <td>1_251</td>\n",
       "      <td>2022-02-02 07:55:19.149409</td>\n",
       "      <td>s_158752</td>\n",
       "      <td>c_8534</td>\n",
       "    </tr>\n",
       "    <tr>\n",
       "      <th>2</th>\n",
       "      <td>0_1277</td>\n",
       "      <td>2022-06-18 15:44:33.155329</td>\n",
       "      <td>s_225667</td>\n",
       "      <td>c_6714</td>\n",
       "    </tr>\n",
       "    <tr>\n",
       "      <th>3</th>\n",
       "      <td>2_209</td>\n",
       "      <td>2021-06-24 04:19:29.835891</td>\n",
       "      <td>s_52962</td>\n",
       "      <td>c_6941</td>\n",
       "    </tr>\n",
       "    <tr>\n",
       "      <th>4</th>\n",
       "      <td>0_1509</td>\n",
       "      <td>2023-01-11 08:22:08.194479</td>\n",
       "      <td>s_325227</td>\n",
       "      <td>c_4232</td>\n",
       "    </tr>\n",
       "  </tbody>\n",
       "</table>\n",
       "</div>"
      ],
      "text/plain": [
       "  id_prod                        date session_id client_id\n",
       "0  0_1518  2022-05-20 13:21:29.043970   s_211425     c_103\n",
       "1   1_251  2022-02-02 07:55:19.149409   s_158752    c_8534\n",
       "2  0_1277  2022-06-18 15:44:33.155329   s_225667    c_6714\n",
       "3   2_209  2021-06-24 04:19:29.835891    s_52962    c_6941\n",
       "4  0_1509  2023-01-11 08:22:08.194479   s_325227    c_4232"
      ]
     },
     "execution_count": 9,
     "metadata": {},
     "output_type": "execute_result"
    }
   ],
   "source": [
    "transactions.head()"
   ]
  },
  {
   "cell_type": "code",
   "execution_count": 10,
   "id": "9f10bb85",
   "metadata": {},
   "outputs": [
    {
     "name": "stdout",
     "output_type": "stream",
     "text": [
      "<class 'pandas.core.frame.DataFrame'>\n",
      "RangeIndex: 679532 entries, 0 to 679531\n",
      "Data columns (total 4 columns):\n",
      " #   Column      Non-Null Count   Dtype \n",
      "---  ------      --------------   ----- \n",
      " 0   id_prod     679532 non-null  object\n",
      " 1   date        679532 non-null  object\n",
      " 2   session_id  679532 non-null  object\n",
      " 3   client_id   679532 non-null  object\n",
      "dtypes: object(4)\n",
      "memory usage: 20.7+ MB\n"
     ]
    }
   ],
   "source": [
    "transactions.info()"
   ]
  },
  {
   "cell_type": "code",
   "execution_count": 11,
   "id": "9a2f29fe",
   "metadata": {},
   "outputs": [
    {
     "data": {
      "text/html": [
       "<div>\n",
       "<style scoped>\n",
       "    .dataframe tbody tr th:only-of-type {\n",
       "        vertical-align: middle;\n",
       "    }\n",
       "\n",
       "    .dataframe tbody tr th {\n",
       "        vertical-align: top;\n",
       "    }\n",
       "\n",
       "    .dataframe thead th {\n",
       "        text-align: right;\n",
       "    }\n",
       "</style>\n",
       "<table border=\"1\" class=\"dataframe\">\n",
       "  <thead>\n",
       "    <tr style=\"text-align: right;\">\n",
       "      <th></th>\n",
       "      <th>id_prod</th>\n",
       "      <th>date</th>\n",
       "      <th>session_id</th>\n",
       "      <th>client_id</th>\n",
       "    </tr>\n",
       "  </thead>\n",
       "  <tbody>\n",
       "    <tr>\n",
       "      <th>246980</th>\n",
       "      <td>T_0</td>\n",
       "      <td>test_2021-03-01 02:30:02.237450</td>\n",
       "      <td>s_0</td>\n",
       "      <td>ct_0</td>\n",
       "    </tr>\n",
       "    <tr>\n",
       "      <th>573155</th>\n",
       "      <td>T_0</td>\n",
       "      <td>test_2021-03-01 02:30:02.237449</td>\n",
       "      <td>s_0</td>\n",
       "      <td>ct_0</td>\n",
       "    </tr>\n",
       "    <tr>\n",
       "      <th>670680</th>\n",
       "      <td>T_0</td>\n",
       "      <td>test_2021-03-01 02:30:02.237449</td>\n",
       "      <td>s_0</td>\n",
       "      <td>ct_1</td>\n",
       "    </tr>\n",
       "    <tr>\n",
       "      <th>19312</th>\n",
       "      <td>T_0</td>\n",
       "      <td>test_2021-03-01 02:30:02.237449</td>\n",
       "      <td>s_0</td>\n",
       "      <td>ct_0</td>\n",
       "    </tr>\n",
       "    <tr>\n",
       "      <th>392443</th>\n",
       "      <td>T_0</td>\n",
       "      <td>test_2021-03-01 02:30:02.237448</td>\n",
       "      <td>s_0</td>\n",
       "      <td>ct_0</td>\n",
       "    </tr>\n",
       "    <tr>\n",
       "      <th>...</th>\n",
       "      <td>...</td>\n",
       "      <td>...</td>\n",
       "      <td>...</td>\n",
       "      <td>...</td>\n",
       "    </tr>\n",
       "    <tr>\n",
       "      <th>433516</th>\n",
       "      <td>0_1091</td>\n",
       "      <td>2023-02-28 03:43:13.432945</td>\n",
       "      <td>s_348047</td>\n",
       "      <td>c_2220</td>\n",
       "    </tr>\n",
       "    <tr>\n",
       "      <th>474647</th>\n",
       "      <td>1_54</td>\n",
       "      <td>2023-02-28 03:41:53.801801</td>\n",
       "      <td>s_348046</td>\n",
       "      <td>c_2314</td>\n",
       "    </tr>\n",
       "    <tr>\n",
       "      <th>92551</th>\n",
       "      <td>1_369</td>\n",
       "      <td>2023-02-28 03:41:13.227719</td>\n",
       "      <td>s_348035</td>\n",
       "      <td>c_1642</td>\n",
       "    </tr>\n",
       "    <tr>\n",
       "      <th>588866</th>\n",
       "      <td>1_463</td>\n",
       "      <td>2023-02-28 03:40:16.350429</td>\n",
       "      <td>s_348033</td>\n",
       "      <td>c_945</td>\n",
       "    </tr>\n",
       "    <tr>\n",
       "      <th>303863</th>\n",
       "      <td>1_731</td>\n",
       "      <td>2023-02-28 03:39:01.493066</td>\n",
       "      <td>s_348045</td>\n",
       "      <td>c_411</td>\n",
       "    </tr>\n",
       "  </tbody>\n",
       "</table>\n",
       "<p>1000 rows × 4 columns</p>\n",
       "</div>"
      ],
      "text/plain": [
       "       id_prod                             date session_id client_id\n",
       "246980     T_0  test_2021-03-01 02:30:02.237450        s_0      ct_0\n",
       "573155     T_0  test_2021-03-01 02:30:02.237449        s_0      ct_0\n",
       "670680     T_0  test_2021-03-01 02:30:02.237449        s_0      ct_1\n",
       "19312      T_0  test_2021-03-01 02:30:02.237449        s_0      ct_0\n",
       "392443     T_0  test_2021-03-01 02:30:02.237448        s_0      ct_0\n",
       "...        ...                              ...        ...       ...\n",
       "433516  0_1091       2023-02-28 03:43:13.432945   s_348047    c_2220\n",
       "474647    1_54       2023-02-28 03:41:53.801801   s_348046    c_2314\n",
       "92551    1_369       2023-02-28 03:41:13.227719   s_348035    c_1642\n",
       "588866   1_463       2023-02-28 03:40:16.350429   s_348033     c_945\n",
       "303863   1_731       2023-02-28 03:39:01.493066   s_348045     c_411\n",
       "\n",
       "[1000 rows x 4 columns]"
      ]
     },
     "execution_count": 11,
     "metadata": {},
     "output_type": "execute_result"
    }
   ],
   "source": [
    "transactions.sort_values(['date'], ascending = False).head(1000)\n",
    "#L'objectif est de savoir sur combien de temps s'étale nos données"
   ]
  },
  {
   "cell_type": "markdown",
   "id": "b9d1453a",
   "metadata": {},
   "source": [
    "## Cleaning de la Table Transactions"
   ]
  },
  {
   "cell_type": "code",
   "execution_count": 12,
   "id": "ee728851",
   "metadata": {},
   "outputs": [],
   "source": [
    "tests = transactions.loc[transactions['id_prod'] == 'T_0' ].index\n",
    "#dans la data frame \"tests\" nous avons réuni tous les tests comme son nom l'indique"
   ]
  },
  {
   "cell_type": "code",
   "execution_count": 13,
   "id": "e63b2f8c",
   "metadata": {},
   "outputs": [],
   "source": [
    "transactions.drop(tests , inplace=True)\n",
    "#suppression des lignes tests"
   ]
  },
  {
   "cell_type": "code",
   "execution_count": 14,
   "id": "33985241",
   "metadata": {},
   "outputs": [
    {
     "name": "stdout",
     "output_type": "stream",
     "text": [
      "<class 'pandas.core.frame.DataFrame'>\n",
      "Int64Index: 679332 entries, 0 to 679531\n",
      "Data columns (total 4 columns):\n",
      " #   Column      Non-Null Count   Dtype \n",
      "---  ------      --------------   ----- \n",
      " 0   id_prod     679332 non-null  object\n",
      " 1   date        679332 non-null  object\n",
      " 2   session_id  679332 non-null  object\n",
      " 3   client_id   679332 non-null  object\n",
      "dtypes: object(4)\n",
      "memory usage: 25.9+ MB\n"
     ]
    }
   ],
   "source": [
    "transactions.info()"
   ]
  },
  {
   "cell_type": "code",
   "execution_count": 15,
   "id": "c5129672",
   "metadata": {},
   "outputs": [],
   "source": [
    "transactions.drop_duplicates(keep = 'first', inplace=True)  #Suppression des doublons"
   ]
  },
  {
   "cell_type": "code",
   "execution_count": 16,
   "id": "76acdc18",
   "metadata": {},
   "outputs": [
    {
     "name": "stdout",
     "output_type": "stream",
     "text": [
      "<class 'pandas.core.frame.DataFrame'>\n",
      "Int64Index: 679332 entries, 0 to 679531\n",
      "Data columns (total 4 columns):\n",
      " #   Column      Non-Null Count   Dtype \n",
      "---  ------      --------------   ----- \n",
      " 0   id_prod     679332 non-null  object\n",
      " 1   date        679332 non-null  object\n",
      " 2   session_id  679332 non-null  object\n",
      " 3   client_id   679332 non-null  object\n",
      "dtypes: object(4)\n",
      "memory usage: 25.9+ MB\n"
     ]
    }
   ],
   "source": [
    "transactions.info()"
   ]
  },
  {
   "cell_type": "markdown",
   "id": "4085bc89",
   "metadata": {},
   "source": [
    "## Liaison des 3 tables "
   ]
  },
  {
   "cell_type": "code",
   "execution_count": 17,
   "id": "7cfab14a",
   "metadata": {},
   "outputs": [
    {
     "data": {
      "text/html": [
       "<div>\n",
       "<style scoped>\n",
       "    .dataframe tbody tr th:only-of-type {\n",
       "        vertical-align: middle;\n",
       "    }\n",
       "\n",
       "    .dataframe tbody tr th {\n",
       "        vertical-align: top;\n",
       "    }\n",
       "\n",
       "    .dataframe thead th {\n",
       "        text-align: right;\n",
       "    }\n",
       "</style>\n",
       "<table border=\"1\" class=\"dataframe\">\n",
       "  <thead>\n",
       "    <tr style=\"text-align: right;\">\n",
       "      <th></th>\n",
       "      <th>id_prod</th>\n",
       "      <th>price</th>\n",
       "      <th>categ</th>\n",
       "      <th>date</th>\n",
       "      <th>session_id</th>\n",
       "      <th>client_id</th>\n",
       "      <th>_merge</th>\n",
       "    </tr>\n",
       "  </thead>\n",
       "  <tbody>\n",
       "    <tr>\n",
       "      <th>0</th>\n",
       "      <td>0_1421</td>\n",
       "      <td>19.99</td>\n",
       "      <td>0.0</td>\n",
       "      <td>2022-02-20 17:04:37.204937</td>\n",
       "      <td>s_168213</td>\n",
       "      <td>c_6389</td>\n",
       "      <td>both</td>\n",
       "    </tr>\n",
       "    <tr>\n",
       "      <th>1</th>\n",
       "      <td>0_1421</td>\n",
       "      <td>19.99</td>\n",
       "      <td>0.0</td>\n",
       "      <td>2022-11-19 03:42:20.707442</td>\n",
       "      <td>s_299590</td>\n",
       "      <td>c_8364</td>\n",
       "      <td>both</td>\n",
       "    </tr>\n",
       "    <tr>\n",
       "      <th>2</th>\n",
       "      <td>0_1421</td>\n",
       "      <td>19.99</td>\n",
       "      <td>0.0</td>\n",
       "      <td>2021-09-19 14:58:46.726179</td>\n",
       "      <td>s_92304</td>\n",
       "      <td>c_3544</td>\n",
       "      <td>both</td>\n",
       "    </tr>\n",
       "    <tr>\n",
       "      <th>3</th>\n",
       "      <td>0_1421</td>\n",
       "      <td>19.99</td>\n",
       "      <td>0.0</td>\n",
       "      <td>2023-01-11 16:04:24.367855</td>\n",
       "      <td>s_325369</td>\n",
       "      <td>c_1025</td>\n",
       "      <td>both</td>\n",
       "    </tr>\n",
       "    <tr>\n",
       "      <th>4</th>\n",
       "      <td>0_1421</td>\n",
       "      <td>19.99</td>\n",
       "      <td>0.0</td>\n",
       "      <td>2021-08-01 19:33:18.877168</td>\n",
       "      <td>s_70071</td>\n",
       "      <td>c_2298</td>\n",
       "      <td>both</td>\n",
       "    </tr>\n",
       "    <tr>\n",
       "      <th>...</th>\n",
       "      <td>...</td>\n",
       "      <td>...</td>\n",
       "      <td>...</td>\n",
       "      <td>...</td>\n",
       "      <td>...</td>\n",
       "      <td>...</td>\n",
       "      <td>...</td>\n",
       "    </tr>\n",
       "    <tr>\n",
       "      <th>679349</th>\n",
       "      <td>0_2245</td>\n",
       "      <td>NaN</td>\n",
       "      <td>NaN</td>\n",
       "      <td>2021-08-25 09:06:03.504061</td>\n",
       "      <td>s_80395</td>\n",
       "      <td>c_131</td>\n",
       "      <td>right_only</td>\n",
       "    </tr>\n",
       "    <tr>\n",
       "      <th>679350</th>\n",
       "      <td>0_2245</td>\n",
       "      <td>NaN</td>\n",
       "      <td>NaN</td>\n",
       "      <td>2022-03-06 19:59:19.462288</td>\n",
       "      <td>s_175311</td>\n",
       "      <td>c_4167</td>\n",
       "      <td>right_only</td>\n",
       "    </tr>\n",
       "    <tr>\n",
       "      <th>679351</th>\n",
       "      <td>0_2245</td>\n",
       "      <td>NaN</td>\n",
       "      <td>NaN</td>\n",
       "      <td>2022-05-16 11:35:20.319501</td>\n",
       "      <td>s_209381</td>\n",
       "      <td>c_4453</td>\n",
       "      <td>right_only</td>\n",
       "    </tr>\n",
       "    <tr>\n",
       "      <th>679352</th>\n",
       "      <td>0_2245</td>\n",
       "      <td>NaN</td>\n",
       "      <td>NaN</td>\n",
       "      <td>2022-02-11 09:05:43.952857</td>\n",
       "      <td>s_163405</td>\n",
       "      <td>c_1098</td>\n",
       "      <td>right_only</td>\n",
       "    </tr>\n",
       "    <tr>\n",
       "      <th>679353</th>\n",
       "      <td>0_2245</td>\n",
       "      <td>NaN</td>\n",
       "      <td>NaN</td>\n",
       "      <td>2021-12-14 22:34:54.589921</td>\n",
       "      <td>s_134446</td>\n",
       "      <td>c_4854</td>\n",
       "      <td>right_only</td>\n",
       "    </tr>\n",
       "  </tbody>\n",
       "</table>\n",
       "<p>679354 rows × 7 columns</p>\n",
       "</div>"
      ],
      "text/plain": [
       "       id_prod  price  categ                        date session_id client_id  \\\n",
       "0       0_1421  19.99    0.0  2022-02-20 17:04:37.204937   s_168213    c_6389   \n",
       "1       0_1421  19.99    0.0  2022-11-19 03:42:20.707442   s_299590    c_8364   \n",
       "2       0_1421  19.99    0.0  2021-09-19 14:58:46.726179    s_92304    c_3544   \n",
       "3       0_1421  19.99    0.0  2023-01-11 16:04:24.367855   s_325369    c_1025   \n",
       "4       0_1421  19.99    0.0  2021-08-01 19:33:18.877168    s_70071    c_2298   \n",
       "...        ...    ...    ...                         ...        ...       ...   \n",
       "679349  0_2245    NaN    NaN  2021-08-25 09:06:03.504061    s_80395     c_131   \n",
       "679350  0_2245    NaN    NaN  2022-03-06 19:59:19.462288   s_175311    c_4167   \n",
       "679351  0_2245    NaN    NaN  2022-05-16 11:35:20.319501   s_209381    c_4453   \n",
       "679352  0_2245    NaN    NaN  2022-02-11 09:05:43.952857   s_163405    c_1098   \n",
       "679353  0_2245    NaN    NaN  2021-12-14 22:34:54.589921   s_134446    c_4854   \n",
       "\n",
       "            _merge  \n",
       "0             both  \n",
       "1             both  \n",
       "2             both  \n",
       "3             both  \n",
       "4             both  \n",
       "...            ...  \n",
       "679349  right_only  \n",
       "679350  right_only  \n",
       "679351  right_only  \n",
       "679352  right_only  \n",
       "679353  right_only  \n",
       "\n",
       "[679354 rows x 7 columns]"
      ]
     },
     "execution_count": 17,
     "metadata": {},
     "output_type": "execute_result"
    }
   ],
   "source": [
    "df_products_transactions = products.merge(transactions, on='id_prod', how='outer', indicator = True)\n",
    "df_products_transactions"
   ]
  },
  {
   "cell_type": "code",
   "execution_count": 18,
   "id": "e0fef681",
   "metadata": {},
   "outputs": [
    {
     "data": {
      "text/html": [
       "<div>\n",
       "<style scoped>\n",
       "    .dataframe tbody tr th:only-of-type {\n",
       "        vertical-align: middle;\n",
       "    }\n",
       "\n",
       "    .dataframe tbody tr th {\n",
       "        vertical-align: top;\n",
       "    }\n",
       "\n",
       "    .dataframe thead th {\n",
       "        text-align: right;\n",
       "    }\n",
       "</style>\n",
       "<table border=\"1\" class=\"dataframe\">\n",
       "  <thead>\n",
       "    <tr style=\"text-align: right;\">\n",
       "      <th></th>\n",
       "      <th>id_prod</th>\n",
       "      <th>price</th>\n",
       "      <th>categ</th>\n",
       "      <th>date</th>\n",
       "      <th>session_id</th>\n",
       "      <th>client_id</th>\n",
       "      <th>_merge</th>\n",
       "      <th>sex</th>\n",
       "      <th>birth</th>\n",
       "      <th>exists</th>\n",
       "    </tr>\n",
       "  </thead>\n",
       "  <tbody>\n",
       "    <tr>\n",
       "      <th>0</th>\n",
       "      <td>0_1421</td>\n",
       "      <td>19.99</td>\n",
       "      <td>0.0</td>\n",
       "      <td>2022-02-20 17:04:37.204937</td>\n",
       "      <td>s_168213</td>\n",
       "      <td>c_6389</td>\n",
       "      <td>both</td>\n",
       "      <td>f</td>\n",
       "      <td>1991.0</td>\n",
       "      <td>both</td>\n",
       "    </tr>\n",
       "    <tr>\n",
       "      <th>1</th>\n",
       "      <td>0_1421</td>\n",
       "      <td>19.99</td>\n",
       "      <td>0.0</td>\n",
       "      <td>2022-10-20 17:04:37.204937</td>\n",
       "      <td>s_285450</td>\n",
       "      <td>c_6389</td>\n",
       "      <td>both</td>\n",
       "      <td>f</td>\n",
       "      <td>1991.0</td>\n",
       "      <td>both</td>\n",
       "    </tr>\n",
       "    <tr>\n",
       "      <th>2</th>\n",
       "      <td>0_2131</td>\n",
       "      <td>8.99</td>\n",
       "      <td>0.0</td>\n",
       "      <td>2021-10-09 21:47:06.777914</td>\n",
       "      <td>s_102458</td>\n",
       "      <td>c_6389</td>\n",
       "      <td>both</td>\n",
       "      <td>f</td>\n",
       "      <td>1991.0</td>\n",
       "      <td>both</td>\n",
       "    </tr>\n",
       "    <tr>\n",
       "      <th>3</th>\n",
       "      <td>0_1635</td>\n",
       "      <td>16.99</td>\n",
       "      <td>0.0</td>\n",
       "      <td>2021-04-28 06:08:38.261863</td>\n",
       "      <td>s_26841</td>\n",
       "      <td>c_6389</td>\n",
       "      <td>both</td>\n",
       "      <td>f</td>\n",
       "      <td>1991.0</td>\n",
       "      <td>both</td>\n",
       "    </tr>\n",
       "    <tr>\n",
       "      <th>4</th>\n",
       "      <td>0_166</td>\n",
       "      <td>1.83</td>\n",
       "      <td>0.0</td>\n",
       "      <td>2021-07-15 10:35:31.526968</td>\n",
       "      <td>s_62585</td>\n",
       "      <td>c_6389</td>\n",
       "      <td>both</td>\n",
       "      <td>f</td>\n",
       "      <td>1991.0</td>\n",
       "      <td>both</td>\n",
       "    </tr>\n",
       "    <tr>\n",
       "      <th>...</th>\n",
       "      <td>...</td>\n",
       "      <td>...</td>\n",
       "      <td>...</td>\n",
       "      <td>...</td>\n",
       "      <td>...</td>\n",
       "      <td>...</td>\n",
       "      <td>...</td>\n",
       "      <td>...</td>\n",
       "      <td>...</td>\n",
       "      <td>...</td>\n",
       "    </tr>\n",
       "    <tr>\n",
       "      <th>679372</th>\n",
       "      <td>NaN</td>\n",
       "      <td>NaN</td>\n",
       "      <td>NaN</td>\n",
       "      <td>NaN</td>\n",
       "      <td>NaN</td>\n",
       "      <td>c_7584</td>\n",
       "      <td>NaN</td>\n",
       "      <td>f</td>\n",
       "      <td>1960.0</td>\n",
       "      <td>right_only</td>\n",
       "    </tr>\n",
       "    <tr>\n",
       "      <th>679373</th>\n",
       "      <td>NaN</td>\n",
       "      <td>NaN</td>\n",
       "      <td>NaN</td>\n",
       "      <td>NaN</td>\n",
       "      <td>NaN</td>\n",
       "      <td>c_90</td>\n",
       "      <td>NaN</td>\n",
       "      <td>m</td>\n",
       "      <td>2001.0</td>\n",
       "      <td>right_only</td>\n",
       "    </tr>\n",
       "    <tr>\n",
       "      <th>679374</th>\n",
       "      <td>NaN</td>\n",
       "      <td>NaN</td>\n",
       "      <td>NaN</td>\n",
       "      <td>NaN</td>\n",
       "      <td>NaN</td>\n",
       "      <td>c_587</td>\n",
       "      <td>NaN</td>\n",
       "      <td>m</td>\n",
       "      <td>1993.0</td>\n",
       "      <td>right_only</td>\n",
       "    </tr>\n",
       "    <tr>\n",
       "      <th>679375</th>\n",
       "      <td>NaN</td>\n",
       "      <td>NaN</td>\n",
       "      <td>NaN</td>\n",
       "      <td>NaN</td>\n",
       "      <td>NaN</td>\n",
       "      <td>ct_1</td>\n",
       "      <td>NaN</td>\n",
       "      <td>m</td>\n",
       "      <td>2001.0</td>\n",
       "      <td>right_only</td>\n",
       "    </tr>\n",
       "    <tr>\n",
       "      <th>679376</th>\n",
       "      <td>NaN</td>\n",
       "      <td>NaN</td>\n",
       "      <td>NaN</td>\n",
       "      <td>NaN</td>\n",
       "      <td>NaN</td>\n",
       "      <td>c_3526</td>\n",
       "      <td>NaN</td>\n",
       "      <td>m</td>\n",
       "      <td>1956.0</td>\n",
       "      <td>right_only</td>\n",
       "    </tr>\n",
       "  </tbody>\n",
       "</table>\n",
       "<p>679377 rows × 10 columns</p>\n",
       "</div>"
      ],
      "text/plain": [
       "       id_prod  price  categ                        date session_id client_id  \\\n",
       "0       0_1421  19.99    0.0  2022-02-20 17:04:37.204937   s_168213    c_6389   \n",
       "1       0_1421  19.99    0.0  2022-10-20 17:04:37.204937   s_285450    c_6389   \n",
       "2       0_2131   8.99    0.0  2021-10-09 21:47:06.777914   s_102458    c_6389   \n",
       "3       0_1635  16.99    0.0  2021-04-28 06:08:38.261863    s_26841    c_6389   \n",
       "4        0_166   1.83    0.0  2021-07-15 10:35:31.526968    s_62585    c_6389   \n",
       "...        ...    ...    ...                         ...        ...       ...   \n",
       "679372     NaN    NaN    NaN                         NaN        NaN    c_7584   \n",
       "679373     NaN    NaN    NaN                         NaN        NaN      c_90   \n",
       "679374     NaN    NaN    NaN                         NaN        NaN     c_587   \n",
       "679375     NaN    NaN    NaN                         NaN        NaN      ct_1   \n",
       "679376     NaN    NaN    NaN                         NaN        NaN    c_3526   \n",
       "\n",
       "       _merge sex   birth      exists  \n",
       "0        both   f  1991.0        both  \n",
       "1        both   f  1991.0        both  \n",
       "2        both   f  1991.0        both  \n",
       "3        both   f  1991.0        both  \n",
       "4        both   f  1991.0        both  \n",
       "...       ...  ..     ...         ...  \n",
       "679372    NaN   f  1960.0  right_only  \n",
       "679373    NaN   m  2001.0  right_only  \n",
       "679374    NaN   m  1993.0  right_only  \n",
       "679375    NaN   m  2001.0  right_only  \n",
       "679376    NaN   m  1956.0  right_only  \n",
       "\n",
       "[679377 rows x 10 columns]"
      ]
     },
     "execution_count": 18,
     "metadata": {},
     "output_type": "execute_result"
    }
   ],
   "source": [
    "df_customers_transactions_products = df_products_transactions.merge(customers, on='client_id', how='outer', indicator = 'exists')\n",
    "df_customers_transactions_products"
   ]
  },
  {
   "cell_type": "code",
   "execution_count": 19,
   "id": "8253e2e0",
   "metadata": {},
   "outputs": [],
   "source": [
    "not_matched = df_customers_transactions_products.loc[df_customers_transactions_products['exists'] != 'both' ]"
   ]
  },
  {
   "cell_type": "code",
   "execution_count": 20,
   "id": "917d704e",
   "metadata": {},
   "outputs": [],
   "source": [
    "df_vente = df_customers_transactions_products.loc[df_customers_transactions_products['exists'] == 'both' ]"
   ]
  },
  {
   "cell_type": "code",
   "execution_count": 21,
   "id": "f429b106",
   "metadata": {},
   "outputs": [],
   "source": [
    "df_vente = df_vente.drop(columns=[\"exists\"])"
   ]
  },
  {
   "cell_type": "code",
   "execution_count": 22,
   "id": "1943e554",
   "metadata": {
    "scrolled": true
   },
   "outputs": [
    {
     "data": {
      "text/html": [
       "<div>\n",
       "<style scoped>\n",
       "    .dataframe tbody tr th:only-of-type {\n",
       "        vertical-align: middle;\n",
       "    }\n",
       "\n",
       "    .dataframe tbody tr th {\n",
       "        vertical-align: top;\n",
       "    }\n",
       "\n",
       "    .dataframe thead th {\n",
       "        text-align: right;\n",
       "    }\n",
       "</style>\n",
       "<table border=\"1\" class=\"dataframe\">\n",
       "  <thead>\n",
       "    <tr style=\"text-align: right;\">\n",
       "      <th></th>\n",
       "      <th>id_prod</th>\n",
       "      <th>price</th>\n",
       "      <th>categ</th>\n",
       "      <th>date</th>\n",
       "      <th>session_id</th>\n",
       "      <th>client_id</th>\n",
       "      <th>_merge</th>\n",
       "      <th>sex</th>\n",
       "      <th>birth</th>\n",
       "    </tr>\n",
       "  </thead>\n",
       "  <tbody>\n",
       "    <tr>\n",
       "      <th>0</th>\n",
       "      <td>0_1421</td>\n",
       "      <td>19.99</td>\n",
       "      <td>0.0</td>\n",
       "      <td>2022-02-20 17:04:37.204937</td>\n",
       "      <td>s_168213</td>\n",
       "      <td>c_6389</td>\n",
       "      <td>both</td>\n",
       "      <td>f</td>\n",
       "      <td>1991.0</td>\n",
       "    </tr>\n",
       "    <tr>\n",
       "      <th>1</th>\n",
       "      <td>0_1421</td>\n",
       "      <td>19.99</td>\n",
       "      <td>0.0</td>\n",
       "      <td>2022-10-20 17:04:37.204937</td>\n",
       "      <td>s_285450</td>\n",
       "      <td>c_6389</td>\n",
       "      <td>both</td>\n",
       "      <td>f</td>\n",
       "      <td>1991.0</td>\n",
       "    </tr>\n",
       "    <tr>\n",
       "      <th>2</th>\n",
       "      <td>0_2131</td>\n",
       "      <td>8.99</td>\n",
       "      <td>0.0</td>\n",
       "      <td>2021-10-09 21:47:06.777914</td>\n",
       "      <td>s_102458</td>\n",
       "      <td>c_6389</td>\n",
       "      <td>both</td>\n",
       "      <td>f</td>\n",
       "      <td>1991.0</td>\n",
       "    </tr>\n",
       "    <tr>\n",
       "      <th>3</th>\n",
       "      <td>0_1635</td>\n",
       "      <td>16.99</td>\n",
       "      <td>0.0</td>\n",
       "      <td>2021-04-28 06:08:38.261863</td>\n",
       "      <td>s_26841</td>\n",
       "      <td>c_6389</td>\n",
       "      <td>both</td>\n",
       "      <td>f</td>\n",
       "      <td>1991.0</td>\n",
       "    </tr>\n",
       "    <tr>\n",
       "      <th>4</th>\n",
       "      <td>0_166</td>\n",
       "      <td>1.83</td>\n",
       "      <td>0.0</td>\n",
       "      <td>2021-07-15 10:35:31.526968</td>\n",
       "      <td>s_62585</td>\n",
       "      <td>c_6389</td>\n",
       "      <td>both</td>\n",
       "      <td>f</td>\n",
       "      <td>1991.0</td>\n",
       "    </tr>\n",
       "    <tr>\n",
       "      <th>...</th>\n",
       "      <td>...</td>\n",
       "      <td>...</td>\n",
       "      <td>...</td>\n",
       "      <td>...</td>\n",
       "      <td>...</td>\n",
       "      <td>...</td>\n",
       "      <td>...</td>\n",
       "      <td>...</td>\n",
       "      <td>...</td>\n",
       "    </tr>\n",
       "    <tr>\n",
       "      <th>679349</th>\n",
       "      <td>2_163</td>\n",
       "      <td>68.99</td>\n",
       "      <td>2.0</td>\n",
       "      <td>2022-01-28 16:51:07.389515</td>\n",
       "      <td>s_156517</td>\n",
       "      <td>c_7739</td>\n",
       "      <td>both</td>\n",
       "      <td>m</td>\n",
       "      <td>1997.0</td>\n",
       "    </tr>\n",
       "    <tr>\n",
       "      <th>679350</th>\n",
       "      <td>2_101</td>\n",
       "      <td>63.99</td>\n",
       "      <td>2.0</td>\n",
       "      <td>2021-07-21 09:11:12.619736</td>\n",
       "      <td>s_65192</td>\n",
       "      <td>c_7089</td>\n",
       "      <td>both</td>\n",
       "      <td>m</td>\n",
       "      <td>2002.0</td>\n",
       "    </tr>\n",
       "    <tr>\n",
       "      <th>679351</th>\n",
       "      <td>2_101</td>\n",
       "      <td>63.99</td>\n",
       "      <td>2.0</td>\n",
       "      <td>2022-12-21 09:11:12.619736</td>\n",
       "      <td>s_315267</td>\n",
       "      <td>c_7089</td>\n",
       "      <td>both</td>\n",
       "      <td>m</td>\n",
       "      <td>2002.0</td>\n",
       "    </tr>\n",
       "    <tr>\n",
       "      <th>679352</th>\n",
       "      <td>2_101</td>\n",
       "      <td>63.99</td>\n",
       "      <td>2.0</td>\n",
       "      <td>2022-10-21 09:11:12.619736</td>\n",
       "      <td>s_285788</td>\n",
       "      <td>c_7089</td>\n",
       "      <td>both</td>\n",
       "      <td>m</td>\n",
       "      <td>2002.0</td>\n",
       "    </tr>\n",
       "    <tr>\n",
       "      <th>679353</th>\n",
       "      <td>2_101</td>\n",
       "      <td>63.99</td>\n",
       "      <td>2.0</td>\n",
       "      <td>2022-03-21 09:11:12.619736</td>\n",
       "      <td>s_182240</td>\n",
       "      <td>c_7089</td>\n",
       "      <td>both</td>\n",
       "      <td>m</td>\n",
       "      <td>2002.0</td>\n",
       "    </tr>\n",
       "  </tbody>\n",
       "</table>\n",
       "<p>679332 rows × 9 columns</p>\n",
       "</div>"
      ],
      "text/plain": [
       "       id_prod  price  categ                        date session_id client_id  \\\n",
       "0       0_1421  19.99    0.0  2022-02-20 17:04:37.204937   s_168213    c_6389   \n",
       "1       0_1421  19.99    0.0  2022-10-20 17:04:37.204937   s_285450    c_6389   \n",
       "2       0_2131   8.99    0.0  2021-10-09 21:47:06.777914   s_102458    c_6389   \n",
       "3       0_1635  16.99    0.0  2021-04-28 06:08:38.261863    s_26841    c_6389   \n",
       "4        0_166   1.83    0.0  2021-07-15 10:35:31.526968    s_62585    c_6389   \n",
       "...        ...    ...    ...                         ...        ...       ...   \n",
       "679349   2_163  68.99    2.0  2022-01-28 16:51:07.389515   s_156517    c_7739   \n",
       "679350   2_101  63.99    2.0  2021-07-21 09:11:12.619736    s_65192    c_7089   \n",
       "679351   2_101  63.99    2.0  2022-12-21 09:11:12.619736   s_315267    c_7089   \n",
       "679352   2_101  63.99    2.0  2022-10-21 09:11:12.619736   s_285788    c_7089   \n",
       "679353   2_101  63.99    2.0  2022-03-21 09:11:12.619736   s_182240    c_7089   \n",
       "\n",
       "       _merge sex   birth  \n",
       "0        both   f  1991.0  \n",
       "1        both   f  1991.0  \n",
       "2        both   f  1991.0  \n",
       "3        both   f  1991.0  \n",
       "4        both   f  1991.0  \n",
       "...       ...  ..     ...  \n",
       "679349   both   m  1997.0  \n",
       "679350   both   m  2002.0  \n",
       "679351   both   m  2002.0  \n",
       "679352   both   m  2002.0  \n",
       "679353   both   m  2002.0  \n",
       "\n",
       "[679332 rows x 9 columns]"
      ]
     },
     "execution_count": 22,
     "metadata": {},
     "output_type": "execute_result"
    }
   ],
   "source": [
    "df_vente"
   ]
  },
  {
   "cell_type": "code",
   "execution_count": 23,
   "id": "ac3c7ed8",
   "metadata": {
    "scrolled": false
   },
   "outputs": [
    {
     "data": {
      "text/plain": [
       "<AxesSubplot:>"
      ]
     },
     "execution_count": 23,
     "metadata": {},
     "output_type": "execute_result"
    },
    {
     "data": {
      "image/png": "[encoded data removed]",
      "text/plain": [
       "<Figure size 432x288 with 1 Axes>"
      ]
     },
     "metadata": {
      "needs_background": "light"
     },
     "output_type": "display_data"
    }
   ],
   "source": [
    "df_vente['price'].plot(kind='box')"
   ]
  },
  {
   "cell_type": "code",
   "execution_count": 24,
   "id": "b122316f",
   "metadata": {},
   "outputs": [
    {
     "name": "stdout",
     "output_type": "stream",
     "text": [
      "17.45477349072276\n",
      "4.0\n",
      "48.99\n"
     ]
    }
   ],
   "source": [
    "mean = df_vente['price'].mean()\n",
    "p5 = df_vente['price'].quantile(0.05)\n",
    "p95 = df_vente['price'].quantile(0.95)\n",
    "\n",
    "print(mean)\n",
    "print(p5)\n",
    "print(p95)"
   ]
  },
  {
   "cell_type": "code",
   "execution_count": 25,
   "id": "40315347",
   "metadata": {},
   "outputs": [
    {
     "data": {
      "text/plain": [
       "<matplotlib.lines.Line2D at 0x22fb0570790>"
      ]
     },
     "execution_count": 25,
     "metadata": {},
     "output_type": "execute_result"
    },
    {
     "data": {
      "image/png": "[encoded data removed]",
      "text/plain": [
       "<Figure size 432x288 with 1 Axes>"
      ]
     },
     "metadata": {
      "needs_background": "light"
     },
     "output_type": "display_data"
    }
   ],
   "source": [
    "plt.hist(df_vente['price'])\n",
    "plt.axvline(mean, color =\"blue\")\n",
    "plt.axvline(p5, color =\"red\")\n",
    "plt.axvline(p95, color =\"purple\")"
   ]
  },
  {
   "cell_type": "code",
   "execution_count": 26,
   "id": "cfc96042",
   "metadata": {},
   "outputs": [
    {
     "name": "stdout",
     "output_type": "stream",
     "text": [
      "Nombre d'outliers détectés => 28268\n"
     ]
    }
   ],
   "source": [
    "price = df_vente['price']\n",
    "\n",
    "# On écrit une fonction qui va lister les prix considérés comme outliers\n",
    "outliers=[]\n",
    "def detectOutlier(price):\n",
    "    threshold=2\n",
    "    mean = np.mean(price)\n",
    "    std =np.std(price)\n",
    "    \n",
    "    for i in price:\n",
    "        z_score = (i - mean)/std\n",
    "        if np.abs(z_score) > threshold:\n",
    "            outliers.append(i)\n",
    "    return outliers\n",
    "\n",
    "# On observe\n",
    "priceOutliers = detectOutlier(price)\n",
    "print(\"Nombre d'outliers détectés => \" + str(len(priceOutliers)))\n",
    "\n"
   ]
  },
  {
   "cell_type": "markdown",
   "id": "624117bd",
   "metadata": {},
   "source": [
    "# Analyse des différents indicateurs de vente"
   ]
  },
  {
   "cell_type": "code",
   "execution_count": 27,
   "id": "7b4dfb02",
   "metadata": {
    "scrolled": true
   },
   "outputs": [
    {
     "data": {
      "text/plain": [
       "11853729.0"
      ]
     },
     "execution_count": 27,
     "metadata": {},
     "output_type": "execute_result"
    }
   ],
   "source": [
    "ca_all = df_vente['price'].sum().round() \n",
    "ca_all"
   ]
  },
  {
   "cell_type": "code",
   "execution_count": 28,
   "id": "5346c102",
   "metadata": {},
   "outputs": [],
   "source": [
    "df_vente[\"Année_Mois\"] = df_vente['date'].apply(lambda x: pd.Timestamp(x).strftime('%Y/%m'))"
   ]
  },
  {
   "cell_type": "code",
   "execution_count": 29,
   "id": "34c8b9dd",
   "metadata": {},
   "outputs": [],
   "source": [
    "df_vente[\"Calendrier\"] = df_vente['date'].apply(lambda x: pd.Timestamp(x).strftime('%Y/%m/%d'))\n",
    "df_vente[\"Année\"] = df_vente['date'].apply(lambda x: pd.Timestamp(x).strftime('%Y'))\n",
    "df_vente[\"Année_Mois\"] = df_vente['date'].apply(lambda x: pd.Timestamp(x).strftime('%Y/%m'))\n",
    "df_vente[\"Jour\"] = df_vente['date'].apply(lambda x: pd.Timestamp(x).strftime('%d'))\n",
    "df_vente[\"Heure\"] = df_vente['date'].apply(lambda x: pd.Timestamp(x).strftime('%H-%M'))\n"
   ]
  },
  {
   "cell_type": "code",
   "execution_count": 30,
   "id": "90b4bc97",
   "metadata": {
    "scrolled": false
   },
   "outputs": [
    {
     "data": {
      "text/html": [
       "<div>\n",
       "<style scoped>\n",
       "    .dataframe tbody tr th:only-of-type {\n",
       "        vertical-align: middle;\n",
       "    }\n",
       "\n",
       "    .dataframe tbody tr th {\n",
       "        vertical-align: top;\n",
       "    }\n",
       "\n",
       "    .dataframe thead th {\n",
       "        text-align: right;\n",
       "    }\n",
       "</style>\n",
       "<table border=\"1\" class=\"dataframe\">\n",
       "  <thead>\n",
       "    <tr style=\"text-align: right;\">\n",
       "      <th></th>\n",
       "      <th>id_prod</th>\n",
       "      <th>price</th>\n",
       "      <th>categ</th>\n",
       "      <th>date</th>\n",
       "      <th>session_id</th>\n",
       "      <th>client_id</th>\n",
       "      <th>_merge</th>\n",
       "      <th>sex</th>\n",
       "      <th>birth</th>\n",
       "      <th>Année_Mois</th>\n",
       "      <th>Calendrier</th>\n",
       "      <th>Année</th>\n",
       "      <th>Jour</th>\n",
       "      <th>Heure</th>\n",
       "    </tr>\n",
       "  </thead>\n",
       "  <tbody>\n",
       "    <tr>\n",
       "      <th>0</th>\n",
       "      <td>0_1421</td>\n",
       "      <td>19.99</td>\n",
       "      <td>0.0</td>\n",
       "      <td>2022-02-20 17:04:37.204937</td>\n",
       "      <td>s_168213</td>\n",
       "      <td>c_6389</td>\n",
       "      <td>both</td>\n",
       "      <td>f</td>\n",
       "      <td>1991.0</td>\n",
       "      <td>2022/02</td>\n",
       "      <td>2022/02/20</td>\n",
       "      <td>2022</td>\n",
       "      <td>20</td>\n",
       "      <td>17-04</td>\n",
       "    </tr>\n",
       "    <tr>\n",
       "      <th>1</th>\n",
       "      <td>0_1421</td>\n",
       "      <td>19.99</td>\n",
       "      <td>0.0</td>\n",
       "      <td>2022-10-20 17:04:37.204937</td>\n",
       "      <td>s_285450</td>\n",
       "      <td>c_6389</td>\n",
       "      <td>both</td>\n",
       "      <td>f</td>\n",
       "      <td>1991.0</td>\n",
       "      <td>2022/10</td>\n",
       "      <td>2022/10/20</td>\n",
       "      <td>2022</td>\n",
       "      <td>20</td>\n",
       "      <td>17-04</td>\n",
       "    </tr>\n",
       "    <tr>\n",
       "      <th>2</th>\n",
       "      <td>0_2131</td>\n",
       "      <td>8.99</td>\n",
       "      <td>0.0</td>\n",
       "      <td>2021-10-09 21:47:06.777914</td>\n",
       "      <td>s_102458</td>\n",
       "      <td>c_6389</td>\n",
       "      <td>both</td>\n",
       "      <td>f</td>\n",
       "      <td>1991.0</td>\n",
       "      <td>2021/10</td>\n",
       "      <td>2021/10/09</td>\n",
       "      <td>2021</td>\n",
       "      <td>09</td>\n",
       "      <td>21-47</td>\n",
       "    </tr>\n",
       "    <tr>\n",
       "      <th>3</th>\n",
       "      <td>0_1635</td>\n",
       "      <td>16.99</td>\n",
       "      <td>0.0</td>\n",
       "      <td>2021-04-28 06:08:38.261863</td>\n",
       "      <td>s_26841</td>\n",
       "      <td>c_6389</td>\n",
       "      <td>both</td>\n",
       "      <td>f</td>\n",
       "      <td>1991.0</td>\n",
       "      <td>2021/04</td>\n",
       "      <td>2021/04/28</td>\n",
       "      <td>2021</td>\n",
       "      <td>28</td>\n",
       "      <td>06-08</td>\n",
       "    </tr>\n",
       "    <tr>\n",
       "      <th>4</th>\n",
       "      <td>0_166</td>\n",
       "      <td>1.83</td>\n",
       "      <td>0.0</td>\n",
       "      <td>2021-07-15 10:35:31.526968</td>\n",
       "      <td>s_62585</td>\n",
       "      <td>c_6389</td>\n",
       "      <td>both</td>\n",
       "      <td>f</td>\n",
       "      <td>1991.0</td>\n",
       "      <td>2021/07</td>\n",
       "      <td>2021/07/15</td>\n",
       "      <td>2021</td>\n",
       "      <td>15</td>\n",
       "      <td>10-35</td>\n",
       "    </tr>\n",
       "    <tr>\n",
       "      <th>...</th>\n",
       "      <td>...</td>\n",
       "      <td>...</td>\n",
       "      <td>...</td>\n",
       "      <td>...</td>\n",
       "      <td>...</td>\n",
       "      <td>...</td>\n",
       "      <td>...</td>\n",
       "      <td>...</td>\n",
       "      <td>...</td>\n",
       "      <td>...</td>\n",
       "      <td>...</td>\n",
       "      <td>...</td>\n",
       "      <td>...</td>\n",
       "      <td>...</td>\n",
       "    </tr>\n",
       "    <tr>\n",
       "      <th>679349</th>\n",
       "      <td>2_163</td>\n",
       "      <td>68.99</td>\n",
       "      <td>2.0</td>\n",
       "      <td>2022-01-28 16:51:07.389515</td>\n",
       "      <td>s_156517</td>\n",
       "      <td>c_7739</td>\n",
       "      <td>both</td>\n",
       "      <td>m</td>\n",
       "      <td>1997.0</td>\n",
       "      <td>2022/01</td>\n",
       "      <td>2022/01/28</td>\n",
       "      <td>2022</td>\n",
       "      <td>28</td>\n",
       "      <td>16-51</td>\n",
       "    </tr>\n",
       "    <tr>\n",
       "      <th>679350</th>\n",
       "      <td>2_101</td>\n",
       "      <td>63.99</td>\n",
       "      <td>2.0</td>\n",
       "      <td>2021-07-21 09:11:12.619736</td>\n",
       "      <td>s_65192</td>\n",
       "      <td>c_7089</td>\n",
       "      <td>both</td>\n",
       "      <td>m</td>\n",
       "      <td>2002.0</td>\n",
       "      <td>2021/07</td>\n",
       "      <td>2021/07/21</td>\n",
       "      <td>2021</td>\n",
       "      <td>21</td>\n",
       "      <td>09-11</td>\n",
       "    </tr>\n",
       "    <tr>\n",
       "      <th>679351</th>\n",
       "      <td>2_101</td>\n",
       "      <td>63.99</td>\n",
       "      <td>2.0</td>\n",
       "      <td>2022-12-21 09:11:12.619736</td>\n",
       "      <td>s_315267</td>\n",
       "      <td>c_7089</td>\n",
       "      <td>both</td>\n",
       "      <td>m</td>\n",
       "      <td>2002.0</td>\n",
       "      <td>2022/12</td>\n",
       "      <td>2022/12/21</td>\n",
       "      <td>2022</td>\n",
       "      <td>21</td>\n",
       "      <td>09-11</td>\n",
       "    </tr>\n",
       "    <tr>\n",
       "      <th>679352</th>\n",
       "      <td>2_101</td>\n",
       "      <td>63.99</td>\n",
       "      <td>2.0</td>\n",
       "      <td>2022-10-21 09:11:12.619736</td>\n",
       "      <td>s_285788</td>\n",
       "      <td>c_7089</td>\n",
       "      <td>both</td>\n",
       "      <td>m</td>\n",
       "      <td>2002.0</td>\n",
       "      <td>2022/10</td>\n",
       "      <td>2022/10/21</td>\n",
       "      <td>2022</td>\n",
       "      <td>21</td>\n",
       "      <td>09-11</td>\n",
       "    </tr>\n",
       "    <tr>\n",
       "      <th>679353</th>\n",
       "      <td>2_101</td>\n",
       "      <td>63.99</td>\n",
       "      <td>2.0</td>\n",
       "      <td>2022-03-21 09:11:12.619736</td>\n",
       "      <td>s_182240</td>\n",
       "      <td>c_7089</td>\n",
       "      <td>both</td>\n",
       "      <td>m</td>\n",
       "      <td>2002.0</td>\n",
       "      <td>2022/03</td>\n",
       "      <td>2022/03/21</td>\n",
       "      <td>2022</td>\n",
       "      <td>21</td>\n",
       "      <td>09-11</td>\n",
       "    </tr>\n",
       "  </tbody>\n",
       "</table>\n",
       "<p>679332 rows × 14 columns</p>\n",
       "</div>"
      ],
      "text/plain": [
       "       id_prod  price  categ                        date session_id client_id  \\\n",
       "0       0_1421  19.99    0.0  2022-02-20 17:04:37.204937   s_168213    c_6389   \n",
       "1       0_1421  19.99    0.0  2022-10-20 17:04:37.204937   s_285450    c_6389   \n",
       "2       0_2131   8.99    0.0  2021-10-09 21:47:06.777914   s_102458    c_6389   \n",
       "3       0_1635  16.99    0.0  2021-04-28 06:08:38.261863    s_26841    c_6389   \n",
       "4        0_166   1.83    0.0  2021-07-15 10:35:31.526968    s_62585    c_6389   \n",
       "...        ...    ...    ...                         ...        ...       ...   \n",
       "679349   2_163  68.99    2.0  2022-01-28 16:51:07.389515   s_156517    c_7739   \n",
       "679350   2_101  63.99    2.0  2021-07-21 09:11:12.619736    s_65192    c_7089   \n",
       "679351   2_101  63.99    2.0  2022-12-21 09:11:12.619736   s_315267    c_7089   \n",
       "679352   2_101  63.99    2.0  2022-10-21 09:11:12.619736   s_285788    c_7089   \n",
       "679353   2_101  63.99    2.0  2022-03-21 09:11:12.619736   s_182240    c_7089   \n",
       "\n",
       "       _merge sex   birth Année_Mois  Calendrier Année Jour  Heure  \n",
       "0        both   f  1991.0    2022/02  2022/02/20  2022   20  17-04  \n",
       "1        both   f  1991.0    2022/10  2022/10/20  2022   20  17-04  \n",
       "2        both   f  1991.0    2021/10  2021/10/09  2021   09  21-47  \n",
       "3        both   f  1991.0    2021/04  2021/04/28  2021   28  06-08  \n",
       "4        both   f  1991.0    2021/07  2021/07/15  2021   15  10-35  \n",
       "...       ...  ..     ...        ...         ...   ...  ...    ...  \n",
       "679349   both   m  1997.0    2022/01  2022/01/28  2022   28  16-51  \n",
       "679350   both   m  2002.0    2021/07  2021/07/21  2021   21  09-11  \n",
       "679351   both   m  2002.0    2022/12  2022/12/21  2022   21  09-11  \n",
       "679352   both   m  2002.0    2022/10  2022/10/21  2022   21  09-11  \n",
       "679353   both   m  2002.0    2022/03  2022/03/21  2022   21  09-11  \n",
       "\n",
       "[679332 rows x 14 columns]"
      ]
     },
     "execution_count": 30,
     "metadata": {},
     "output_type": "execute_result"
    }
   ],
   "source": [
    "df_vente"
   ]
  },
  {
   "cell_type": "code",
   "execution_count": 31,
   "id": "4c45b342",
   "metadata": {
    "scrolled": true
   },
   "outputs": [
    {
     "data": {
      "text/html": [
       "<div>\n",
       "<style scoped>\n",
       "    .dataframe tbody tr th:only-of-type {\n",
       "        vertical-align: middle;\n",
       "    }\n",
       "\n",
       "    .dataframe tbody tr th {\n",
       "        vertical-align: top;\n",
       "    }\n",
       "\n",
       "    .dataframe thead th {\n",
       "        text-align: right;\n",
       "    }\n",
       "</style>\n",
       "<table border=\"1\" class=\"dataframe\">\n",
       "  <thead>\n",
       "    <tr style=\"text-align: right;\">\n",
       "      <th></th>\n",
       "      <th>price</th>\n",
       "    </tr>\n",
       "    <tr>\n",
       "      <th>Année_Mois</th>\n",
       "      <th></th>\n",
       "    </tr>\n",
       "  </thead>\n",
       "  <tbody>\n",
       "    <tr>\n",
       "      <th>2021/03</th>\n",
       "      <td>482440.61</td>\n",
       "    </tr>\n",
       "    <tr>\n",
       "      <th>2021/04</th>\n",
       "      <td>476109.30</td>\n",
       "    </tr>\n",
       "    <tr>\n",
       "      <th>2021/05</th>\n",
       "      <td>492943.47</td>\n",
       "    </tr>\n",
       "    <tr>\n",
       "      <th>2021/06</th>\n",
       "      <td>484088.56</td>\n",
       "    </tr>\n",
       "    <tr>\n",
       "      <th>2021/07</th>\n",
       "      <td>482835.40</td>\n",
       "    </tr>\n",
       "  </tbody>\n",
       "</table>\n",
       "</div>"
      ],
      "text/plain": [
       "                price\n",
       "Année_Mois           \n",
       "2021/03     482440.61\n",
       "2021/04     476109.30\n",
       "2021/05     492943.47\n",
       "2021/06     484088.56\n",
       "2021/07     482835.40"
      ]
     },
     "execution_count": 31,
     "metadata": {},
     "output_type": "execute_result"
    }
   ],
   "source": [
    "mois = df_vente[[\"id_prod\",\"Année_Mois\",\"price\"]].groupby([\"Année_Mois\"]).sum().round(2)\n",
    "mois.head()"
   ]
  },
  {
   "cell_type": "code",
   "execution_count": 32,
   "id": "0af68769",
   "metadata": {},
   "outputs": [],
   "source": [
    "mean_mois = df_vente[[\"id_prod\",\"Année_Mois\",\"price\"]].groupby([\"Année_Mois\"]).mean().round(2)\n",
    "# nous avons ici la moyenne mobile par mois"
   ]
  },
  {
   "cell_type": "code",
   "execution_count": 33,
   "id": "c5196ac6",
   "metadata": {
    "scrolled": true
   },
   "outputs": [
    {
     "data": {
      "image/png": "[encoded data removed]",
      "text/plain": [
       "<Figure size 1440x504 with 2 Axes>"
      ]
     },
     "metadata": {
      "needs_background": "light"
     },
     "output_type": "display_data"
    }
   ],
   "source": [
    "\n",
    "# create figure and axis objects with subplots()\n",
    "fig,ax = plt.subplots()\n",
    "# make a plot\n",
    "ax.plot(mois, color=\"red\", marker=\"o\")\n",
    "# set x-axis label\n",
    "ax.set_xlabel(\"year\",fontsize=14)\n",
    "# set y-axis label\n",
    "ax.set_ylabel(\"CA\",color=\"red\",fontsize=14)\n",
    "ax2=ax.twinx()\n",
    "ax2.plot(mean_mois,color=\"blue\",marker=\"o\")\n",
    "ax2.set_ylabel(\"Moyenne CA\",color=\"blue\",fontsize=14)\n",
    "plt.gcf().set_size_inches(20, 7)\n",
    "plt.show()"
   ]
  },
  {
   "cell_type": "code",
   "execution_count": 34,
   "id": "5e4f0c9f",
   "metadata": {
    "scrolled": false
   },
   "outputs": [],
   "source": [
    "#Nous pouvons constater visuellement qu'en Octobre 2021 les résulats sont très differents des autres mois. \n",
    "#Creusons pour essayer de comprendre d'où vient le problème\n",
    "\n",
    "df_vente2021_10 = df_vente.loc[df_vente['Année_Mois'] == \"2021/10\" ]"
   ]
  },
  {
   "cell_type": "code",
   "execution_count": 35,
   "id": "c88d46a8",
   "metadata": {
    "scrolled": false
   },
   "outputs": [
    {
     "data": {
      "text/html": [
       "<div>\n",
       "<style scoped>\n",
       "    .dataframe tbody tr th:only-of-type {\n",
       "        vertical-align: middle;\n",
       "    }\n",
       "\n",
       "    .dataframe tbody tr th {\n",
       "        vertical-align: top;\n",
       "    }\n",
       "\n",
       "    .dataframe thead th {\n",
       "        text-align: right;\n",
       "    }\n",
       "</style>\n",
       "<table border=\"1\" class=\"dataframe\">\n",
       "  <thead>\n",
       "    <tr style=\"text-align: right;\">\n",
       "      <th></th>\n",
       "      <th>price</th>\n",
       "    </tr>\n",
       "    <tr>\n",
       "      <th>Jour</th>\n",
       "      <th></th>\n",
       "    </tr>\n",
       "  </thead>\n",
       "  <tbody>\n",
       "    <tr>\n",
       "      <th>01</th>\n",
       "      <td>17058.34</td>\n",
       "    </tr>\n",
       "    <tr>\n",
       "      <th>02</th>\n",
       "      <td>9182.13</td>\n",
       "    </tr>\n",
       "    <tr>\n",
       "      <th>03</th>\n",
       "      <td>8993.05</td>\n",
       "    </tr>\n",
       "    <tr>\n",
       "      <th>04</th>\n",
       "      <td>9279.68</td>\n",
       "    </tr>\n",
       "    <tr>\n",
       "      <th>05</th>\n",
       "      <td>9390.46</td>\n",
       "    </tr>\n",
       "    <tr>\n",
       "      <th>06</th>\n",
       "      <td>9490.69</td>\n",
       "    </tr>\n",
       "    <tr>\n",
       "      <th>07</th>\n",
       "      <td>8191.08</td>\n",
       "    </tr>\n",
       "    <tr>\n",
       "      <th>08</th>\n",
       "      <td>10207.35</td>\n",
       "    </tr>\n",
       "    <tr>\n",
       "      <th>09</th>\n",
       "      <td>9425.36</td>\n",
       "    </tr>\n",
       "    <tr>\n",
       "      <th>10</th>\n",
       "      <td>8825.65</td>\n",
       "    </tr>\n",
       "    <tr>\n",
       "      <th>11</th>\n",
       "      <td>10230.56</td>\n",
       "    </tr>\n",
       "    <tr>\n",
       "      <th>12</th>\n",
       "      <td>8971.15</td>\n",
       "    </tr>\n",
       "    <tr>\n",
       "      <th>13</th>\n",
       "      <td>9427.22</td>\n",
       "    </tr>\n",
       "    <tr>\n",
       "      <th>14</th>\n",
       "      <td>9469.78</td>\n",
       "    </tr>\n",
       "    <tr>\n",
       "      <th>15</th>\n",
       "      <td>9398.83</td>\n",
       "    </tr>\n",
       "    <tr>\n",
       "      <th>16</th>\n",
       "      <td>10229.02</td>\n",
       "    </tr>\n",
       "    <tr>\n",
       "      <th>17</th>\n",
       "      <td>9557.98</td>\n",
       "    </tr>\n",
       "    <tr>\n",
       "      <th>18</th>\n",
       "      <td>9083.72</td>\n",
       "    </tr>\n",
       "    <tr>\n",
       "      <th>19</th>\n",
       "      <td>8601.71</td>\n",
       "    </tr>\n",
       "    <tr>\n",
       "      <th>20</th>\n",
       "      <td>9021.19</td>\n",
       "    </tr>\n",
       "    <tr>\n",
       "      <th>21</th>\n",
       "      <td>9571.79</td>\n",
       "    </tr>\n",
       "    <tr>\n",
       "      <th>22</th>\n",
       "      <td>8467.86</td>\n",
       "    </tr>\n",
       "    <tr>\n",
       "      <th>23</th>\n",
       "      <td>8910.64</td>\n",
       "    </tr>\n",
       "    <tr>\n",
       "      <th>24</th>\n",
       "      <td>9923.19</td>\n",
       "    </tr>\n",
       "    <tr>\n",
       "      <th>25</th>\n",
       "      <td>8076.04</td>\n",
       "    </tr>\n",
       "    <tr>\n",
       "      <th>26</th>\n",
       "      <td>9020.79</td>\n",
       "    </tr>\n",
       "    <tr>\n",
       "      <th>27</th>\n",
       "      <td>9789.53</td>\n",
       "    </tr>\n",
       "    <tr>\n",
       "      <th>28</th>\n",
       "      <td>14758.42</td>\n",
       "    </tr>\n",
       "    <tr>\n",
       "      <th>29</th>\n",
       "      <td>16453.63</td>\n",
       "    </tr>\n",
       "    <tr>\n",
       "      <th>30</th>\n",
       "      <td>15386.78</td>\n",
       "    </tr>\n",
       "    <tr>\n",
       "      <th>31</th>\n",
       "      <td>16405.12</td>\n",
       "    </tr>\n",
       "  </tbody>\n",
       "</table>\n",
       "</div>"
      ],
      "text/plain": [
       "         price\n",
       "Jour          \n",
       "01    17058.34\n",
       "02     9182.13\n",
       "03     8993.05\n",
       "04     9279.68\n",
       "05     9390.46\n",
       "06     9490.69\n",
       "07     8191.08\n",
       "08    10207.35\n",
       "09     9425.36\n",
       "10     8825.65\n",
       "11    10230.56\n",
       "12     8971.15\n",
       "13     9427.22\n",
       "14     9469.78\n",
       "15     9398.83\n",
       "16    10229.02\n",
       "17     9557.98\n",
       "18     9083.72\n",
       "19     8601.71\n",
       "20     9021.19\n",
       "21     9571.79\n",
       "22     8467.86\n",
       "23     8910.64\n",
       "24     9923.19\n",
       "25     8076.04\n",
       "26     9020.79\n",
       "27     9789.53\n",
       "28    14758.42\n",
       "29    16453.63\n",
       "30    15386.78\n",
       "31    16405.12"
      ]
     },
     "execution_count": 35,
     "metadata": {},
     "output_type": "execute_result"
    }
   ],
   "source": [
    "vente_oct_2021 = df_vente2021_10[[\"id_prod\",\"Jour\",\"price\"]].groupby([\"Jour\"]).sum().round(2)\n",
    "vente_oct_2021"
   ]
  },
  {
   "cell_type": "code",
   "execution_count": 36,
   "id": "cce67df4",
   "metadata": {},
   "outputs": [],
   "source": [
    "count_vente_oct_2021 = df_vente2021_10[[\"Jour\",\"id_prod\"]].groupby([\"Jour\"]).count().round(2)\n"
   ]
  },
  {
   "cell_type": "code",
   "execution_count": 37,
   "id": "dd8f204a",
   "metadata": {},
   "outputs": [
    {
     "data": {
      "image/png": "[encoded data removed]",
      "text/plain": [
       "<Figure size 1440x504 with 1 Axes>"
      ]
     },
     "metadata": {
      "needs_background": "light"
     },
     "output_type": "display_data"
    }
   ],
   "source": [
    "# create figure and axis objects with subplots()\n",
    "fig,ax = plt.subplots()\n",
    "plt.title(\"Chiffre d'affaires Octobre 2021\")\n",
    "ax.plot(vente_oct_2021, color=\"red\", marker=\"o\")\n",
    "plt.gcf().set_size_inches(20, 7)"
   ]
  },
  {
   "cell_type": "code",
   "execution_count": 38,
   "id": "4814d44a",
   "metadata": {},
   "outputs": [
    {
     "data": {
      "image/png": "[encoded data removed]",
      "text/plain": [
       "<Figure size 1440x504 with 1 Axes>"
      ]
     },
     "metadata": {
      "needs_background": "light"
     },
     "output_type": "display_data"
    }
   ],
   "source": [
    "\n",
    "fig,ax = plt.subplots()\n",
    "plt.title(\"Nombre de vente Octobre 2021\")\n",
    "\n",
    "ax.plot(count_vente_oct_2021, color=\"red\", marker=\"o\")\n",
    "plt.gcf().set_size_inches(20, 7)"
   ]
  },
  {
   "cell_type": "markdown",
   "id": "980655ff",
   "metadata": {},
   "source": [
    "#### Classement des 10 produits les plus vendus et moins vendus"
   ]
  },
  {
   "cell_type": "code",
   "execution_count": 39,
   "id": "c3f3720e",
   "metadata": {},
   "outputs": [],
   "source": [
    "top_vente = df_vente[[\"id_prod\",\"price\"]].groupby([\"id_prod\"]).count().sort_values([\"price\"], ascending=False).head(10)"
   ]
  },
  {
   "cell_type": "code",
   "execution_count": 40,
   "id": "701f70ee",
   "metadata": {
    "scrolled": false
   },
   "outputs": [
    {
     "data": {
      "text/html": [
       "<div>\n",
       "<style scoped>\n",
       "    .dataframe tbody tr th:only-of-type {\n",
       "        vertical-align: middle;\n",
       "    }\n",
       "\n",
       "    .dataframe tbody tr th {\n",
       "        vertical-align: top;\n",
       "    }\n",
       "\n",
       "    .dataframe thead th {\n",
       "        text-align: right;\n",
       "    }\n",
       "</style>\n",
       "<table border=\"1\" class=\"dataframe\">\n",
       "  <thead>\n",
       "    <tr style=\"text-align: right;\">\n",
       "      <th></th>\n",
       "      <th>price</th>\n",
       "    </tr>\n",
       "    <tr>\n",
       "      <th>id_prod</th>\n",
       "      <th></th>\n",
       "    </tr>\n",
       "  </thead>\n",
       "  <tbody>\n",
       "    <tr>\n",
       "      <th>1_369</th>\n",
       "      <td>2252</td>\n",
       "    </tr>\n",
       "    <tr>\n",
       "      <th>1_417</th>\n",
       "      <td>2189</td>\n",
       "    </tr>\n",
       "    <tr>\n",
       "      <th>1_414</th>\n",
       "      <td>2180</td>\n",
       "    </tr>\n",
       "    <tr>\n",
       "      <th>1_498</th>\n",
       "      <td>2128</td>\n",
       "    </tr>\n",
       "    <tr>\n",
       "      <th>1_425</th>\n",
       "      <td>2096</td>\n",
       "    </tr>\n",
       "    <tr>\n",
       "      <th>1_403</th>\n",
       "      <td>1960</td>\n",
       "    </tr>\n",
       "    <tr>\n",
       "      <th>1_412</th>\n",
       "      <td>1951</td>\n",
       "    </tr>\n",
       "    <tr>\n",
       "      <th>1_413</th>\n",
       "      <td>1945</td>\n",
       "    </tr>\n",
       "    <tr>\n",
       "      <th>1_406</th>\n",
       "      <td>1939</td>\n",
       "    </tr>\n",
       "    <tr>\n",
       "      <th>1_407</th>\n",
       "      <td>1935</td>\n",
       "    </tr>\n",
       "  </tbody>\n",
       "</table>\n",
       "</div>"
      ],
      "text/plain": [
       "         price\n",
       "id_prod       \n",
       "1_369     2252\n",
       "1_417     2189\n",
       "1_414     2180\n",
       "1_498     2128\n",
       "1_425     2096\n",
       "1_403     1960\n",
       "1_412     1951\n",
       "1_413     1945\n",
       "1_406     1939\n",
       "1_407     1935"
      ]
     },
     "execution_count": 40,
     "metadata": {},
     "output_type": "execute_result"
    }
   ],
   "source": [
    "top_vente\n",
    "#Nous avons ci-dessous les 10 produits les plus vendus"
   ]
  },
  {
   "cell_type": "code",
   "execution_count": 41,
   "id": "b09e4ea1",
   "metadata": {},
   "outputs": [
    {
     "data": {
      "text/html": [
       "<div>\n",
       "<style scoped>\n",
       "    .dataframe tbody tr th:only-of-type {\n",
       "        vertical-align: middle;\n",
       "    }\n",
       "\n",
       "    .dataframe tbody tr th {\n",
       "        vertical-align: top;\n",
       "    }\n",
       "\n",
       "    .dataframe thead th {\n",
       "        text-align: right;\n",
       "    }\n",
       "</style>\n",
       "<table border=\"1\" class=\"dataframe\">\n",
       "  <thead>\n",
       "    <tr style=\"text-align: right;\">\n",
       "      <th></th>\n",
       "      <th>price</th>\n",
       "    </tr>\n",
       "    <tr>\n",
       "      <th>id_prod</th>\n",
       "      <th></th>\n",
       "    </tr>\n",
       "  </thead>\n",
       "  <tbody>\n",
       "    <tr>\n",
       "      <th>0_2245</th>\n",
       "      <td>0</td>\n",
       "    </tr>\n",
       "    <tr>\n",
       "      <th>0_807</th>\n",
       "      <td>1</td>\n",
       "    </tr>\n",
       "    <tr>\n",
       "      <th>0_886</th>\n",
       "      <td>1</td>\n",
       "    </tr>\n",
       "    <tr>\n",
       "      <th>0_549</th>\n",
       "      <td>1</td>\n",
       "    </tr>\n",
       "    <tr>\n",
       "      <th>0_1379</th>\n",
       "      <td>1</td>\n",
       "    </tr>\n",
       "    <tr>\n",
       "      <th>0_1151</th>\n",
       "      <td>1</td>\n",
       "    </tr>\n",
       "    <tr>\n",
       "      <th>0_1498</th>\n",
       "      <td>1</td>\n",
       "    </tr>\n",
       "    <tr>\n",
       "      <th>0_1633</th>\n",
       "      <td>1</td>\n",
       "    </tr>\n",
       "    <tr>\n",
       "      <th>0_1539</th>\n",
       "      <td>1</td>\n",
       "    </tr>\n",
       "    <tr>\n",
       "      <th>0_541</th>\n",
       "      <td>1</td>\n",
       "    </tr>\n",
       "  </tbody>\n",
       "</table>\n",
       "</div>"
      ],
      "text/plain": [
       "         price\n",
       "id_prod       \n",
       "0_2245       0\n",
       "0_807        1\n",
       "0_886        1\n",
       "0_549        1\n",
       "0_1379       1\n",
       "0_1151       1\n",
       "0_1498       1\n",
       "0_1633       1\n",
       "0_1539       1\n",
       "0_541        1"
      ]
     },
     "execution_count": 41,
     "metadata": {},
     "output_type": "execute_result"
    }
   ],
   "source": [
    "flop_vente = df_vente[[\"id_prod\",\"price\"]].groupby([\"id_prod\"]).count().sort_values([\"price\"]).head(10)\n",
    "flop_vente\n",
    "#Nous avons ci-dessous les 10 produits les moins vendus"
   ]
  },
  {
   "cell_type": "markdown",
   "id": "90aba19c",
   "metadata": {},
   "source": [
    "### Zoom sur les références"
   ]
  },
  {
   "cell_type": "code",
   "execution_count": 42,
   "id": "66faf8d6",
   "metadata": {},
   "outputs": [
    {
     "data": {
      "text/html": [
       "<div>\n",
       "<style scoped>\n",
       "    .dataframe tbody tr th:only-of-type {\n",
       "        vertical-align: middle;\n",
       "    }\n",
       "\n",
       "    .dataframe tbody tr th {\n",
       "        vertical-align: top;\n",
       "    }\n",
       "\n",
       "    .dataframe thead th {\n",
       "        text-align: right;\n",
       "    }\n",
       "</style>\n",
       "<table border=\"1\" class=\"dataframe\">\n",
       "  <thead>\n",
       "    <tr style=\"text-align: right;\">\n",
       "      <th></th>\n",
       "      <th>id_prod</th>\n",
       "    </tr>\n",
       "    <tr>\n",
       "      <th>categ</th>\n",
       "      <th></th>\n",
       "    </tr>\n",
       "  </thead>\n",
       "  <tbody>\n",
       "    <tr>\n",
       "      <th>0.0</th>\n",
       "      <td>415459</td>\n",
       "    </tr>\n",
       "    <tr>\n",
       "      <th>1.0</th>\n",
       "      <td>227169</td>\n",
       "    </tr>\n",
       "    <tr>\n",
       "      <th>2.0</th>\n",
       "      <td>36483</td>\n",
       "    </tr>\n",
       "  </tbody>\n",
       "</table>\n",
       "</div>"
      ],
      "text/plain": [
       "       id_prod\n",
       "categ         \n",
       "0.0     415459\n",
       "1.0     227169\n",
       "2.0      36483"
      ]
     },
     "execution_count": 42,
     "metadata": {},
     "output_type": "execute_result"
    }
   ],
   "source": [
    "vente_categ = df_vente[[\"id_prod\",\"categ\"]].groupby([\"categ\"]).count()\n",
    "vente_categ"
   ]
  },
  {
   "cell_type": "code",
   "execution_count": 43,
   "id": "2494fb8c",
   "metadata": {
    "scrolled": true
   },
   "outputs": [
    {
     "data": {
      "image/png": "[encoded data removed]",
      "text/plain": [
       "<Figure size 432x288 with 1 Axes>"
      ]
     },
     "metadata": {
      "needs_background": "light"
     },
     "output_type": "display_data"
    }
   ],
   "source": [
    "plt.bar(vente_categ.index, vente_categ['id_prod'])\n",
    "plt.xticks(rotation=70) \n",
    "plt.show()"
   ]
  },
  {
   "cell_type": "code",
   "execution_count": 46,
   "id": "586ef53a",
   "metadata": {},
   "outputs": [
    {
     "data": {
      "image/png": "[encoded data removed]",
      "text/plain": [
       "<Figure size 432x288 with 1 Axes>"
      ]
     },
     "metadata": {},
     "output_type": "display_data"
    }
   ],
   "source": [
    "mylabels = [\"0\", \"1\", \"2\"]\n",
    "\n",
    "plt.pie(vente_categ['id_prod'], labels=mylabels, shadow = True)\n",
    "\n",
    "plt.show()"
   ]
  },
  {
   "cell_type": "markdown",
   "id": "504af5bb",
   "metadata": {},
   "source": [
    "### Type de client, chiffre d'affaires et moyenne d'age par sex"
   ]
  },
  {
   "cell_type": "markdown",
   "id": "41fe3f07",
   "metadata": {
    "scrolled": false
   },
   "source": [
    "Nous allons nous interesser sur l'age des clients, pour celà nous allons ajouter une colonne \"age\" dans notre dataframe principal"
   ]
  },
  {
   "cell_type": "code",
   "execution_count": 47,
   "id": "649e6cec",
   "metadata": {},
   "outputs": [],
   "source": [
    "df_vente['age'] = 2023 - df_vente['birth']"
   ]
  },
  {
   "cell_type": "code",
   "execution_count": 48,
   "id": "9decb2ac",
   "metadata": {
    "scrolled": true
   },
   "outputs": [
    {
     "data": {
      "text/html": [
       "<div>\n",
       "<style scoped>\n",
       "    .dataframe tbody tr th:only-of-type {\n",
       "        vertical-align: middle;\n",
       "    }\n",
       "\n",
       "    .dataframe tbody tr th {\n",
       "        vertical-align: top;\n",
       "    }\n",
       "\n",
       "    .dataframe thead th {\n",
       "        text-align: right;\n",
       "    }\n",
       "</style>\n",
       "<table border=\"1\" class=\"dataframe\">\n",
       "  <thead>\n",
       "    <tr style=\"text-align: right;\">\n",
       "      <th></th>\n",
       "      <th>sex</th>\n",
       "      <th>price</th>\n",
       "      <th>age</th>\n",
       "    </tr>\n",
       "    <tr>\n",
       "      <th>sex</th>\n",
       "      <th></th>\n",
       "      <th></th>\n",
       "      <th></th>\n",
       "    </tr>\n",
       "  </thead>\n",
       "  <tbody>\n",
       "    <tr>\n",
       "      <th>f</th>\n",
       "      <td>338402</td>\n",
       "      <td>5859683.13</td>\n",
       "      <td>45.747977</td>\n",
       "    </tr>\n",
       "    <tr>\n",
       "      <th>m</th>\n",
       "      <td>340930</td>\n",
       "      <td>5994045.55</td>\n",
       "      <td>44.633890</td>\n",
       "    </tr>\n",
       "  </tbody>\n",
       "</table>\n",
       "</div>"
      ],
      "text/plain": [
       "        sex       price        age\n",
       "sex                               \n",
       "f    338402  5859683.13  45.747977\n",
       "m    340930  5994045.55  44.633890"
      ]
     },
     "execution_count": 48,
     "metadata": {},
     "output_type": "execute_result"
    }
   ],
   "source": [
    "df_vente.groupby(\"sex\").agg({\"sex\": np.size, \"price\": np.sum, \"age\": np.mean})"
   ]
  },
  {
   "cell_type": "markdown",
   "id": "b65f16ed",
   "metadata": {},
   "source": [
    "Nombre de femmes : 338402 / CA : 5859368 / Age moyen : 46 ans\n",
    "Nombre d hommes  : 340930 / CA : 5994045 / Age moyen : 45 ans           "
   ]
  },
  {
   "cell_type": "code",
   "execution_count": 90,
   "id": "0a87d71a",
   "metadata": {
    "scrolled": false
   },
   "outputs": [
    {
     "data": {
      "text/html": [
       "<div>\n",
       "<style scoped>\n",
       "    .dataframe tbody tr th:only-of-type {\n",
       "        vertical-align: middle;\n",
       "    }\n",
       "\n",
       "    .dataframe tbody tr th {\n",
       "        vertical-align: top;\n",
       "    }\n",
       "\n",
       "    .dataframe thead th {\n",
       "        text-align: right;\n",
       "    }\n",
       "</style>\n",
       "<table border=\"1\" class=\"dataframe\">\n",
       "  <thead>\n",
       "    <tr style=\"text-align: right;\">\n",
       "      <th></th>\n",
       "      <th>Nbr clients</th>\n",
       "      <th>CA</th>\n",
       "    </tr>\n",
       "    <tr>\n",
       "      <th>age</th>\n",
       "      <th></th>\n",
       "      <th></th>\n",
       "    </tr>\n",
       "  </thead>\n",
       "  <tbody>\n",
       "    <tr>\n",
       "      <th>19.0</th>\n",
       "      <td>15149</td>\n",
       "      <td>609013.69</td>\n",
       "    </tr>\n",
       "    <tr>\n",
       "      <th>20.0</th>\n",
       "      <td>4371</td>\n",
       "      <td>178195.78</td>\n",
       "    </tr>\n",
       "    <tr>\n",
       "      <th>21.0</th>\n",
       "      <td>4587</td>\n",
       "      <td>184177.35</td>\n",
       "    </tr>\n",
       "    <tr>\n",
       "      <th>22.0</th>\n",
       "      <td>4252</td>\n",
       "      <td>178497.70</td>\n",
       "    </tr>\n",
       "    <tr>\n",
       "      <th>23.0</th>\n",
       "      <td>4415</td>\n",
       "      <td>165007.98</td>\n",
       "    </tr>\n",
       "  </tbody>\n",
       "</table>\n",
       "</div>"
      ],
      "text/plain": [
       "      Nbr clients         CA\n",
       "age                         \n",
       "19.0        15149  609013.69\n",
       "20.0         4371  178195.78\n",
       "21.0         4587  184177.35\n",
       "22.0         4252  178497.70\n",
       "23.0         4415  165007.98"
      ]
     },
     "execution_count": 90,
     "metadata": {},
     "output_type": "execute_result"
    }
   ],
   "source": [
    "profil2 = df_vente.groupby(\"age\").agg({\"sex\": np.size, \"price\": np.sum})\n",
    "profil2.columns = ['Nbr clients', 'CA']\n",
    "profil2.head()"
   ]
  },
  {
   "cell_type": "markdown",
   "id": "b3a812e6",
   "metadata": {},
   "source": [
    "#### Chiffre d'affaires par âge"
   ]
  },
  {
   "cell_type": "code",
   "execution_count": 50,
   "id": "4185ae75",
   "metadata": {},
   "outputs": [
    {
     "data": {
      "image/png": "[encoded data removed]",
      "text/plain": [
       "<Figure size 1440x504 with 1 Axes>"
      ]
     },
     "metadata": {
      "needs_background": "light"
     },
     "output_type": "display_data"
    }
   ],
   "source": [
    "plt.plot(profil2['CA'])\n",
    "plt.title(\"CA par âge\")\n",
    "plt.gcf().set_size_inches(20, 7)\n",
    "plt.show()."
   ]
  },
  {
   "cell_type": "markdown",
   "id": "51091a89",
   "metadata": {},
   "source": [
    "### Courbe de Lorenz "
   ]
  },
  {
   "cell_type": "code",
   "execution_count": 51,
   "id": "2cf3bc8d",
   "metadata": {},
   "outputs": [
    {
     "data": {
      "text/html": [
       "<div>\n",
       "<style scoped>\n",
       "    .dataframe tbody tr th:only-of-type {\n",
       "        vertical-align: middle;\n",
       "    }\n",
       "\n",
       "    .dataframe tbody tr th {\n",
       "        vertical-align: top;\n",
       "    }\n",
       "\n",
       "    .dataframe thead th {\n",
       "        text-align: right;\n",
       "    }\n",
       "</style>\n",
       "<table border=\"1\" class=\"dataframe\">\n",
       "  <thead>\n",
       "    <tr style=\"text-align: right;\">\n",
       "      <th></th>\n",
       "      <th>price</th>\n",
       "    </tr>\n",
       "    <tr>\n",
       "      <th>client_id</th>\n",
       "      <th></th>\n",
       "    </tr>\n",
       "  </thead>\n",
       "  <tbody>\n",
       "    <tr>\n",
       "      <th>c_8351</th>\n",
       "      <td>6.31</td>\n",
       "    </tr>\n",
       "    <tr>\n",
       "      <th>c_8140</th>\n",
       "      <td>8.30</td>\n",
       "    </tr>\n",
       "    <tr>\n",
       "      <th>c_8114</th>\n",
       "      <td>9.98</td>\n",
       "    </tr>\n",
       "    <tr>\n",
       "      <th>c_240</th>\n",
       "      <td>11.06</td>\n",
       "    </tr>\n",
       "    <tr>\n",
       "      <th>c_4648</th>\n",
       "      <td>11.20</td>\n",
       "    </tr>\n",
       "  </tbody>\n",
       "</table>\n",
       "</div>"
      ],
      "text/plain": [
       "           price\n",
       "client_id       \n",
       "c_8351      6.31\n",
       "c_8140      8.30\n",
       "c_8114      9.98\n",
       "c_240      11.06\n",
       "c_4648     11.20"
      ]
     },
     "execution_count": 51,
     "metadata": {},
     "output_type": "execute_result"
    }
   ],
   "source": [
    "arr_price = df_vente[[\"client_id\", \"price\"]].groupby([\"client_id\"]).sum().sort_values(['price'], ascending = True)\n",
    "arr_price.head(5)"
   ]
  },
  {
   "cell_type": "code",
   "execution_count": 52,
   "id": "f72874e4",
   "metadata": {
    "scrolled": false
   },
   "outputs": [
    {
     "data": {
      "image/png": "[encoded data removed]",
      "text/plain": [
       "<Figure size 432x288 with 1 Axes>"
      ]
     },
     "metadata": {
      "needs_background": "light"
     },
     "output_type": "display_data"
    }
   ],
   "source": [
    "def lorenz(arr_price):\n",
    "    # this divides the prefix sum by the total sum\n",
    "    # this ensures all the values are between 0 and 1.0\n",
    "    scaled_prefix_sum = arr_price.cumsum() / arr_price.sum()\n",
    "    # this prepends the 0 value (because 0% of all people have 0% of all wealth)\n",
    "    scaled_prefix_sum = np.append([0], scaled_prefix_sum)\n",
    "    return np.insert(scaled_prefix_sum, 0, 0)\n",
    "\n",
    "# show the gini index!\n",
    "\n",
    "\n",
    "lorenz_curve = lorenz(arr_price)\n",
    "\n",
    "# we need the X values to be between 0.0 to 1.0\n",
    "plt.plot(np.linspace(0.0, 1.0, lorenz_curve.size), lorenz_curve)\n",
    "# plot the straight line perfect equality curve\n",
    "plt.plot([0,1], [0,1])\n",
    "plt.show()"
   ]
  },
  {
   "cell_type": "markdown",
   "id": "545a412d",
   "metadata": {},
   "source": [
    "#### Indice de Gini"
   ]
  },
  {
   "cell_type": "markdown",
   "id": "44a562cc",
   "metadata": {},
   "source": [
    "Coefficient de Gini: Il consiste à rapporter la mesure de l'aire comprise entre la courbe de Lorenz et la droite d'équirépartition. Plus le coefficient se rapproche de 1 plus la répartition est inégalitaire"
   ]
  },
  {
   "cell_type": "code",
   "execution_count": 53,
   "id": "34384f53",
   "metadata": {
    "scrolled": true
   },
   "outputs": [
    {
     "name": "stdout",
     "output_type": "stream",
     "text": [
      "L'indice de Gini est égal à 0.45\n"
     ]
    }
   ],
   "source": [
    "#Aire sous la courbe de Lorenz. La dernière valeur ne participe pas à l'aire, d'où \"[:-1]\"\n",
    "aire_ss_courbe_age = lorenz_curve[:-1].sum()/len(lorenz_curve) \n",
    "\n",
    "#Aire entre la 1e bissectrice et la courbe de Lorenz\n",
    "S = 0.5 - aire_ss_courbe_age\n",
    "gini_age = round(2*S, 2)\n",
    "\n",
    "print(\"L'indice de Gini est égal à {}\".format(gini_age))"
   ]
  },
  {
   "cell_type": "markdown",
   "id": "677869bc",
   "metadata": {},
   "source": [
    "# Analyse univariée / bivariée"
   ]
  },
  {
   "cell_type": "markdown",
   "id": "c1b301c9",
   "metadata": {},
   "source": [
    "## Le lien entre le genre d’un client et les catégories des livres achetés"
   ]
  },
  {
   "cell_type": "code",
   "execution_count": 54,
   "id": "8351fb80",
   "metadata": {
    "scrolled": false
   },
   "outputs": [
    {
     "data": {
      "text/html": [
       "<div>\n",
       "<style scoped>\n",
       "    .dataframe tbody tr th:only-of-type {\n",
       "        vertical-align: middle;\n",
       "    }\n",
       "\n",
       "    .dataframe tbody tr th {\n",
       "        vertical-align: top;\n",
       "    }\n",
       "\n",
       "    .dataframe thead th {\n",
       "        text-align: right;\n",
       "    }\n",
       "</style>\n",
       "<table border=\"1\" class=\"dataframe\">\n",
       "  <thead>\n",
       "    <tr style=\"text-align: right;\">\n",
       "      <th>categ</th>\n",
       "      <th>0.0</th>\n",
       "      <th>1.0</th>\n",
       "      <th>2.0</th>\n",
       "    </tr>\n",
       "    <tr>\n",
       "      <th>sex</th>\n",
       "      <th></th>\n",
       "      <th></th>\n",
       "      <th></th>\n",
       "    </tr>\n",
       "  </thead>\n",
       "  <tbody>\n",
       "    <tr>\n",
       "      <th>f</th>\n",
       "      <td>206103</td>\n",
       "      <td>114899</td>\n",
       "      <td>17283</td>\n",
       "    </tr>\n",
       "    <tr>\n",
       "      <th>m</th>\n",
       "      <td>209356</td>\n",
       "      <td>112270</td>\n",
       "      <td>19200</td>\n",
       "    </tr>\n",
       "  </tbody>\n",
       "</table>\n",
       "</div>"
      ],
      "text/plain": [
       "categ     0.0     1.0    2.0\n",
       "sex                         \n",
       "f      206103  114899  17283\n",
       "m      209356  112270  19200"
      ]
     },
     "execution_count": 54,
     "metadata": {},
     "output_type": "execute_result"
    }
   ],
   "source": [
    "dataset_table = pd.crosstab(df_vente['sex'], df_vente['categ'])\n",
    "dataset_table"
   ]
  },
  {
   "cell_type": "code",
   "execution_count": 55,
   "id": "b1199872",
   "metadata": {},
   "outputs": [],
   "source": [
    "from scipy.stats import chi2_contingency\n",
    "from scipy.stats import chi2"
   ]
  },
  {
   "cell_type": "code",
   "execution_count": 56,
   "id": "43413685",
   "metadata": {
    "scrolled": true
   },
   "outputs": [
    {
     "name": "stdout",
     "output_type": "stream",
     "text": [
      "statistique de test: 147.11906816131497\n",
      "p_value: 1.1310980597090762e-32\n",
      "degré de liberté: 2\n"
     ]
    }
   ],
   "source": [
    "test=chi2_contingency(dataset_table)\n",
    "\n",
    "print('statistique de test:', test[0])\n",
    "print('p_value:', test[1])\n",
    "print('degré de liberté:', test[2])\n"
   ]
  },
  {
   "cell_type": "code",
   "execution_count": 57,
   "id": "ef2a3538",
   "metadata": {},
   "outputs": [
    {
     "name": "stdout",
     "output_type": "stream",
     "text": [
      "critical_value: 5.991464547107979\n"
     ]
    }
   ],
   "source": [
    "alpha = 0.05\n",
    "critical_value=chi2.ppf(q=1-alpha,df=test[2])\n",
    "print('critical_value:',critical_value)\n",
    "# Table des valeurs critiques de la loi du chi-deux à 2 ddl à 5%"
   ]
  },
  {
   "cell_type": "code",
   "execution_count": 58,
   "id": "30996d78",
   "metadata": {},
   "outputs": [
    {
     "name": "stdout",
     "output_type": "stream",
     "text": [
      "Rejet de H0, Il y a une relation entre les 2 variables\n"
     ]
    }
   ],
   "source": [
    "if test[0]>=critical_value:\n",
    "    print(\"Rejet de H0, Il y a une relation entre les 2 variables\")\n",
    "else:\n",
    "    print(\"Non rejet de H0, Il y a pas de relation entre les 2 variables\")\n",
    "    \n"
   ]
  },
  {
   "cell_type": "markdown",
   "id": "4e25546f",
   "metadata": {},
   "source": [
    "## Lien entre l’âge des clients et le montant total des achats"
   ]
  },
  {
   "cell_type": "code",
   "execution_count": 59,
   "id": "ce63747b",
   "metadata": {},
   "outputs": [],
   "source": [
    "labels = [\"{0} - {1}\".format(i, i + 9) for i in range(0, 100, 10)]"
   ]
  },
  {
   "cell_type": "code",
   "execution_count": 60,
   "id": "5e474828",
   "metadata": {},
   "outputs": [],
   "source": [
    "df_vente[\"categ_age\"] = pd.cut(df_vente.age, range(0, 105, 10), right=False, labels=labels)"
   ]
  },
  {
   "cell_type": "code",
   "execution_count": 61,
   "id": "24f7e234",
   "metadata": {
    "scrolled": false
   },
   "outputs": [
    {
     "data": {
      "text/html": [
       "<div>\n",
       "<style scoped>\n",
       "    .dataframe tbody tr th:only-of-type {\n",
       "        vertical-align: middle;\n",
       "    }\n",
       "\n",
       "    .dataframe tbody tr th {\n",
       "        vertical-align: top;\n",
       "    }\n",
       "\n",
       "    .dataframe thead th {\n",
       "        text-align: right;\n",
       "    }\n",
       "</style>\n",
       "<table border=\"1\" class=\"dataframe\">\n",
       "  <thead>\n",
       "    <tr style=\"text-align: right;\">\n",
       "      <th></th>\n",
       "      <th>age</th>\n",
       "      <th>price</th>\n",
       "    </tr>\n",
       "  </thead>\n",
       "  <tbody>\n",
       "    <tr>\n",
       "      <th>0</th>\n",
       "      <td>19.0</td>\n",
       "      <td>609013.69</td>\n",
       "    </tr>\n",
       "    <tr>\n",
       "      <th>1</th>\n",
       "      <td>20.0</td>\n",
       "      <td>178195.78</td>\n",
       "    </tr>\n",
       "    <tr>\n",
       "      <th>2</th>\n",
       "      <td>21.0</td>\n",
       "      <td>184177.35</td>\n",
       "    </tr>\n",
       "    <tr>\n",
       "      <th>3</th>\n",
       "      <td>22.0</td>\n",
       "      <td>178497.70</td>\n",
       "    </tr>\n",
       "    <tr>\n",
       "      <th>4</th>\n",
       "      <td>23.0</td>\n",
       "      <td>165007.98</td>\n",
       "    </tr>\n",
       "  </tbody>\n",
       "</table>\n",
       "</div>"
      ],
      "text/plain": [
       "    age      price\n",
       "0  19.0  609013.69\n",
       "1  20.0  178195.78\n",
       "2  21.0  184177.35\n",
       "3  22.0  178497.70\n",
       "4  23.0  165007.98"
      ]
     },
     "execution_count": 61,
     "metadata": {},
     "output_type": "execute_result"
    }
   ],
   "source": [
    "age_montant2 = df_vente[[\"price\"]].groupby(df_vente[\"age\"]).sum().reset_index()\n",
    "age_montant2.head()\n",
    "#Chiffre d'affaires par age"
   ]
  },
  {
   "cell_type": "code",
   "execution_count": 62,
   "id": "fc0619c0",
   "metadata": {
    "scrolled": true
   },
   "outputs": [
    {
     "data": {
      "image/png": "[encoded data removed]",
      "text/plain": [
       "<Figure size 432x288 with 1 Axes>"
      ]
     },
     "metadata": {
      "needs_background": "light"
     },
     "output_type": "display_data"
    }
   ],
   "source": [
    "Age_CA=df_vente.loc[:,['age','price']]\n",
    "Age_CA = Age_CA.groupby('age').sum()\n",
    "Age_CA = Age_CA.sort_values(by=['age'])\n",
    "\n",
    "sns.scatterplot(x=Age_CA.index,y='price',data=Age_CA);\n"
   ]
  },
  {
   "cell_type": "code",
   "execution_count": 63,
   "id": "ce5cc3cd",
   "metadata": {},
   "outputs": [],
   "source": [
    "from scipy.stats import pearsonr\n"
   ]
  },
  {
   "cell_type": "code",
   "execution_count": 64,
   "id": "fb95fbed",
   "metadata": {},
   "outputs": [
    {
     "data": {
      "text/plain": [
       "(-0.7788810457116597, 1.1949535843460998e-16)"
      ]
     },
     "execution_count": 64,
     "metadata": {},
     "output_type": "execute_result"
    }
   ],
   "source": [
    "pearsonr(Age_CA.index, Age_CA.price) \n",
    "\n",
    "#Ici la variable \"x\" âge et la variable \"y\" Chiffre d'affaires ont une forte relation négative \n",
    "#Nous pouvons conclure qu'il y a bien une correlation entre l'age et le CA."
   ]
  },
  {
   "cell_type": "code",
   "execution_count": 65,
   "id": "03b82651",
   "metadata": {
    "scrolled": true
   },
   "outputs": [
    {
     "name": "stdout",
     "output_type": "stream",
     "text": [
      "Requirement already satisfied: pingouin in c:\\users\\benmi\\anaconda3\\lib\\site-packages (0.5.1)\n",
      "Requirement already satisfied: pandas-flavor>=0.2.0 in c:\\users\\benmi\\anaconda3\\lib\\site-packages (from pingouin) (0.2.0)\n",
      "Requirement already satisfied: scipy>=1.7 in c:\\users\\benmi\\anaconda3\\lib\\site-packages (from pingouin) (1.7.1)\n",
      "Requirement already satisfied: numpy>=1.19 in c:\\users\\benmi\\anaconda3\\lib\\site-packages (from pingouin) (1.20.3)\n",
      "Requirement already satisfied: statsmodels>=0.13 in c:\\users\\benmi\\anaconda3\\lib\\site-packages (from pingouin) (0.13.2)\n",
      "Requirement already satisfied: seaborn>=0.11 in c:\\users\\benmi\\anaconda3\\lib\\site-packages (from pingouin) (0.11.2)\n",
      "Requirement already satisfied: scikit-learn in c:\\users\\benmi\\anaconda3\\lib\\site-packages (from pingouin) (0.24.2)\n",
      "Requirement already satisfied: tabulate in c:\\users\\benmi\\anaconda3\\lib\\site-packages (from pingouin) (0.8.9)\n",
      "Requirement already satisfied: pandas>=1.0 in c:\\users\\benmi\\anaconda3\\lib\\site-packages (from pingouin) (1.3.4)\n",
      "Requirement already satisfied: matplotlib>=3.0.2 in c:\\users\\benmi\\anaconda3\\lib\\site-packages (from pingouin) (3.4.3)\n",
      "Requirement already satisfied: outdated in c:\\users\\benmi\\anaconda3\\lib\\site-packages (from pingouin) (0.2.1)\n",
      "Requirement already satisfied: cycler>=0.10 in c:\\users\\benmi\\anaconda3\\lib\\site-packages (from matplotlib>=3.0.2->pingouin) (0.10.0)\n",
      "Requirement already satisfied: pyparsing>=2.2.1 in c:\\users\\benmi\\anaconda3\\lib\\site-packages (from matplotlib>=3.0.2->pingouin) (3.0.4)\n",
      "Requirement already satisfied: kiwisolver>=1.0.1 in c:\\users\\benmi\\anaconda3\\lib\\site-packages (from matplotlib>=3.0.2->pingouin) (1.3.1)\n",
      "Requirement already satisfied: pillow>=6.2.0 in c:\\users\\benmi\\anaconda3\\lib\\site-packages (from matplotlib>=3.0.2->pingouin) (8.4.0)\n",
      "Requirement already satisfied: python-dateutil>=2.7 in c:\\users\\benmi\\anaconda3\\lib\\site-packages (from matplotlib>=3.0.2->pingouin) (2.8.2)\n",
      "Requirement already satisfied: six in c:\\users\\benmi\\anaconda3\\lib\\site-packages (from cycler>=0.10->matplotlib>=3.0.2->pingouin) (1.16.0)\n",
      "Requirement already satisfied: pytz>=2017.3 in c:\\users\\benmi\\anaconda3\\lib\\site-packages (from pandas>=1.0->pingouin) (2021.3)\n",
      "Requirement already satisfied: xarray in c:\\users\\benmi\\anaconda3\\lib\\site-packages (from pandas-flavor>=0.2.0->pingouin) (2022.3.0)\n",
      "Requirement already satisfied: patsy>=0.5.2 in c:\\users\\benmi\\anaconda3\\lib\\site-packages (from statsmodels>=0.13->pingouin) (0.5.2)\n",
      "Requirement already satisfied: packaging>=21.3 in c:\\users\\benmi\\anaconda3\\lib\\site-packages (from statsmodels>=0.13->pingouin) (21.3)\n",
      "Requirement already satisfied: littleutils in c:\\users\\benmi\\anaconda3\\lib\\site-packages (from outdated->pingouin) (0.2.2)\n",
      "Requirement already satisfied: requests in c:\\users\\benmi\\anaconda3\\lib\\site-packages (from outdated->pingouin) (2.26.0)\n",
      "Requirement already satisfied: idna<4,>=2.5 in c:\\users\\benmi\\anaconda3\\lib\\site-packages (from requests->outdated->pingouin) (3.2)\n",
      "Requirement already satisfied: charset-normalizer~=2.0.0 in c:\\users\\benmi\\anaconda3\\lib\\site-packages (from requests->outdated->pingouin) (2.0.4)\n",
      "Requirement already satisfied: urllib3<1.27,>=1.21.1 in c:\\users\\benmi\\anaconda3\\lib\\site-packages (from requests->outdated->pingouin) (1.26.7)\n",
      "Requirement already satisfied: certifi>=2017.4.17 in c:\\users\\benmi\\anaconda3\\lib\\site-packages (from requests->outdated->pingouin) (2021.10.8)\n",
      "Requirement already satisfied: joblib>=0.11 in c:\\users\\benmi\\anaconda3\\lib\\site-packages (from scikit-learn->pingouin) (1.1.0)\n",
      "Requirement already satisfied: threadpoolctl>=2.0.0 in c:\\users\\benmi\\anaconda3\\lib\\site-packages (from scikit-learn->pingouin) (2.2.0)\n",
      "Note: you may need to restart the kernel to use updated packages.\n"
     ]
    }
   ],
   "source": [
    "pip install pingouin"
   ]
  },
  {
   "cell_type": "markdown",
   "id": "b4893e73",
   "metadata": {},
   "source": [
    "## Le lien entre l’âge des clients et la fréquence d'achat"
   ]
  },
  {
   "cell_type": "code",
   "execution_count": 66,
   "id": "1f7add7e",
   "metadata": {},
   "outputs": [],
   "source": [
    "f_achat = df_vente.groupby(\"age\")[[\"session_id\"]].nunique().reset_index()\n",
    "f_achat['f'] = (f_achat['session_id'] / 24) / f_achat['session_id'].count()"
   ]
  },
  {
   "cell_type": "code",
   "execution_count": 67,
   "id": "8a78711f",
   "metadata": {
    "scrolled": true
   },
   "outputs": [
    {
     "data": {
      "text/plain": [
       "<AxesSubplot:ylabel='f'>"
      ]
     },
     "execution_count": 67,
     "metadata": {},
     "output_type": "execute_result"
    },
    {
     "data": {
      "image/png": "[encoded data removed]",
      "text/plain": [
       "<Figure size 432x288 with 1 Axes>"
      ]
     },
     "metadata": {
      "needs_background": "light"
     },
     "output_type": "display_data"
    }
   ],
   "source": [
    "sns.scatterplot(x=f_achat.index,y='f',data=f_achat)\n"
   ]
  },
  {
   "cell_type": "code",
   "execution_count": 68,
   "id": "ceec20f0",
   "metadata": {
    "scrolled": false
   },
   "outputs": [
    {
     "data": {
      "text/plain": [
       "(-0.5528340228708238, 2.2391324252998667e-07)"
      ]
     },
     "execution_count": 68,
     "metadata": {},
     "output_type": "execute_result"
    }
   ],
   "source": [
    "pearsonr(f_achat.index, f_achat.f) "
   ]
  },
  {
   "cell_type": "code",
   "execution_count": 69,
   "id": "994addbb",
   "metadata": {},
   "outputs": [],
   "source": [
    "#Pour vérifier le liens entre ces 2 variables nous utilisons un test ANOVA pour cela nous allons utiliser une variable quali\n",
    "#cration de 3 tranches d'ages"
   ]
  },
  {
   "cell_type": "code",
   "execution_count": 70,
   "id": "53bc23f6",
   "metadata": {},
   "outputs": [],
   "source": [
    "bin_labels=labels=['0 à 15', '16 à 40 ans', '41 à 94 ans']\n",
    "f_achat[\"categ_age\"], bin_values = pd.cut(f_achat.age, bins=[0,15,40,94], labels=bin_labels,retbins=True)"
   ]
  },
  {
   "cell_type": "code",
   "execution_count": 71,
   "id": "879d25fa",
   "metadata": {
    "scrolled": false
   },
   "outputs": [
    {
     "data": {
      "text/html": [
       "<div>\n",
       "<style scoped>\n",
       "    .dataframe tbody tr th:only-of-type {\n",
       "        vertical-align: middle;\n",
       "    }\n",
       "\n",
       "    .dataframe tbody tr th {\n",
       "        vertical-align: top;\n",
       "    }\n",
       "\n",
       "    .dataframe thead th {\n",
       "        text-align: right;\n",
       "    }\n",
       "</style>\n",
       "<table border=\"1\" class=\"dataframe\">\n",
       "  <thead>\n",
       "    <tr style=\"text-align: right;\">\n",
       "      <th></th>\n",
       "      <th>age</th>\n",
       "      <th>session_id</th>\n",
       "      <th>f</th>\n",
       "      <th>categ_age</th>\n",
       "    </tr>\n",
       "  </thead>\n",
       "  <tbody>\n",
       "    <tr>\n",
       "      <th>0</th>\n",
       "      <td>19.0</td>\n",
       "      <td>8594</td>\n",
       "      <td>4.711623</td>\n",
       "      <td>16 à 40 ans</td>\n",
       "    </tr>\n",
       "    <tr>\n",
       "      <th>1</th>\n",
       "      <td>20.0</td>\n",
       "      <td>2567</td>\n",
       "      <td>1.407346</td>\n",
       "      <td>16 à 40 ans</td>\n",
       "    </tr>\n",
       "    <tr>\n",
       "      <th>2</th>\n",
       "      <td>21.0</td>\n",
       "      <td>2604</td>\n",
       "      <td>1.427632</td>\n",
       "      <td>16 à 40 ans</td>\n",
       "    </tr>\n",
       "    <tr>\n",
       "      <th>3</th>\n",
       "      <td>22.0</td>\n",
       "      <td>2431</td>\n",
       "      <td>1.332785</td>\n",
       "      <td>16 à 40 ans</td>\n",
       "    </tr>\n",
       "    <tr>\n",
       "      <th>4</th>\n",
       "      <td>23.0</td>\n",
       "      <td>2421</td>\n",
       "      <td>1.327303</td>\n",
       "      <td>16 à 40 ans</td>\n",
       "    </tr>\n",
       "    <tr>\n",
       "      <th>...</th>\n",
       "      <td>...</td>\n",
       "      <td>...</td>\n",
       "      <td>...</td>\n",
       "      <td>...</td>\n",
       "    </tr>\n",
       "    <tr>\n",
       "      <th>71</th>\n",
       "      <td>90.0</td>\n",
       "      <td>234</td>\n",
       "      <td>0.128289</td>\n",
       "      <td>41 à 94 ans</td>\n",
       "    </tr>\n",
       "    <tr>\n",
       "      <th>72</th>\n",
       "      <td>91.0</td>\n",
       "      <td>206</td>\n",
       "      <td>0.112939</td>\n",
       "      <td>41 à 94 ans</td>\n",
       "    </tr>\n",
       "    <tr>\n",
       "      <th>73</th>\n",
       "      <td>92.0</td>\n",
       "      <td>96</td>\n",
       "      <td>0.052632</td>\n",
       "      <td>41 à 94 ans</td>\n",
       "    </tr>\n",
       "    <tr>\n",
       "      <th>74</th>\n",
       "      <td>93.0</td>\n",
       "      <td>146</td>\n",
       "      <td>0.080044</td>\n",
       "      <td>41 à 94 ans</td>\n",
       "    </tr>\n",
       "    <tr>\n",
       "      <th>75</th>\n",
       "      <td>94.0</td>\n",
       "      <td>134</td>\n",
       "      <td>0.073465</td>\n",
       "      <td>41 à 94 ans</td>\n",
       "    </tr>\n",
       "  </tbody>\n",
       "</table>\n",
       "<p>76 rows × 4 columns</p>\n",
       "</div>"
      ],
      "text/plain": [
       "     age  session_id         f    categ_age\n",
       "0   19.0        8594  4.711623  16 à 40 ans\n",
       "1   20.0        2567  1.407346  16 à 40 ans\n",
       "2   21.0        2604  1.427632  16 à 40 ans\n",
       "3   22.0        2431  1.332785  16 à 40 ans\n",
       "4   23.0        2421  1.327303  16 à 40 ans\n",
       "..   ...         ...       ...          ...\n",
       "71  90.0         234  0.128289  41 à 94 ans\n",
       "72  91.0         206  0.112939  41 à 94 ans\n",
       "73  92.0          96  0.052632  41 à 94 ans\n",
       "74  93.0         146  0.080044  41 à 94 ans\n",
       "75  94.0         134  0.073465  41 à 94 ans\n",
       "\n",
       "[76 rows x 4 columns]"
      ]
     },
     "execution_count": 71,
     "metadata": {},
     "output_type": "execute_result"
    }
   ],
   "source": [
    "f_achat"
   ]
  },
  {
   "cell_type": "code",
   "execution_count": 72,
   "id": "62e6be23",
   "metadata": {},
   "outputs": [],
   "source": [
    "import pingouin as pg"
   ]
  },
  {
   "cell_type": "code",
   "execution_count": 73,
   "id": "5c51006a",
   "metadata": {
    "scrolled": true
   },
   "outputs": [
    {
     "data": {
      "text/html": [
       "<div>\n",
       "<style scoped>\n",
       "    .dataframe tbody tr th:only-of-type {\n",
       "        vertical-align: middle;\n",
       "    }\n",
       "\n",
       "    .dataframe tbody tr th {\n",
       "        vertical-align: top;\n",
       "    }\n",
       "\n",
       "    .dataframe thead th {\n",
       "        text-align: right;\n",
       "    }\n",
       "</style>\n",
       "<table border=\"1\" class=\"dataframe\">\n",
       "  <thead>\n",
       "    <tr style=\"text-align: right;\">\n",
       "      <th></th>\n",
       "      <th>Source</th>\n",
       "      <th>SS</th>\n",
       "      <th>DF</th>\n",
       "      <th>MS</th>\n",
       "      <th>F</th>\n",
       "      <th>p-unc</th>\n",
       "      <th>np2</th>\n",
       "    </tr>\n",
       "  </thead>\n",
       "  <tbody>\n",
       "    <tr>\n",
       "      <th>0</th>\n",
       "      <td>categ_age</td>\n",
       "      <td>7.955807</td>\n",
       "      <td>1</td>\n",
       "      <td>7.955807</td>\n",
       "      <td>2.057419</td>\n",
       "      <td>0.155679</td>\n",
       "      <td>0.027051</td>\n",
       "    </tr>\n",
       "    <tr>\n",
       "      <th>1</th>\n",
       "      <td>Within</td>\n",
       "      <td>286.149619</td>\n",
       "      <td>74</td>\n",
       "      <td>3.866887</td>\n",
       "      <td>NaN</td>\n",
       "      <td>NaN</td>\n",
       "      <td>NaN</td>\n",
       "    </tr>\n",
       "  </tbody>\n",
       "</table>\n",
       "</div>"
      ],
      "text/plain": [
       "      Source          SS  DF        MS         F     p-unc       np2\n",
       "0  categ_age    7.955807   1  7.955807  2.057419  0.155679  0.027051\n",
       "1     Within  286.149619  74  3.866887       NaN       NaN       NaN"
      ]
     },
     "execution_count": 73,
     "metadata": {},
     "output_type": "execute_result"
    }
   ],
   "source": [
    "pg.anova(dv='f', between='categ_age', data=f_achat,\n",
    "               detailed=True)\n",
    "#Ici nous avons fait le test ANOVA pour verifier qu'il y a bien une liaison entre la frequence d'achat et l'age\n",
    "#plus l'age est faible plus la fréquence est élevé"
   ]
  },
  {
   "cell_type": "markdown",
   "id": "e66e1444",
   "metadata": {},
   "source": [
    "## Liens entre l'age des clients et la taille du panier moyen"
   ]
  },
  {
   "cell_type": "code",
   "execution_count": 74,
   "id": "bbcea294",
   "metadata": {},
   "outputs": [],
   "source": [
    "# Dans un premier temps je vais calculer le panier moyen par âge"
   ]
  },
  {
   "cell_type": "code",
   "execution_count": 75,
   "id": "c2218877",
   "metadata": {},
   "outputs": [
    {
     "data": {
      "text/html": [
       "<div>\n",
       "<style scoped>\n",
       "    .dataframe tbody tr th:only-of-type {\n",
       "        vertical-align: middle;\n",
       "    }\n",
       "\n",
       "    .dataframe tbody tr th {\n",
       "        vertical-align: top;\n",
       "    }\n",
       "\n",
       "    .dataframe thead th {\n",
       "        text-align: right;\n",
       "    }\n",
       "</style>\n",
       "<table border=\"1\" class=\"dataframe\">\n",
       "  <thead>\n",
       "    <tr style=\"text-align: right;\">\n",
       "      <th></th>\n",
       "      <th>age</th>\n",
       "      <th>id_prod</th>\n",
       "    </tr>\n",
       "  </thead>\n",
       "  <tbody>\n",
       "    <tr>\n",
       "      <th>71</th>\n",
       "      <td>90.0</td>\n",
       "      <td>1.397436</td>\n",
       "    </tr>\n",
       "    <tr>\n",
       "      <th>72</th>\n",
       "      <td>91.0</td>\n",
       "      <td>1.509709</td>\n",
       "    </tr>\n",
       "    <tr>\n",
       "      <th>73</th>\n",
       "      <td>92.0</td>\n",
       "      <td>1.770833</td>\n",
       "    </tr>\n",
       "    <tr>\n",
       "      <th>74</th>\n",
       "      <td>93.0</td>\n",
       "      <td>1.547945</td>\n",
       "    </tr>\n",
       "    <tr>\n",
       "      <th>75</th>\n",
       "      <td>94.0</td>\n",
       "      <td>1.500000</td>\n",
       "    </tr>\n",
       "  </tbody>\n",
       "</table>\n",
       "</div>"
      ],
      "text/plain": [
       "     age   id_prod\n",
       "71  90.0  1.397436\n",
       "72  91.0  1.509709\n",
       "73  92.0  1.770833\n",
       "74  93.0  1.547945\n",
       "75  94.0  1.500000"
      ]
     },
     "execution_count": 75,
     "metadata": {},
     "output_type": "execute_result"
    }
   ],
   "source": [
    "panier_client = df_vente.groupby(['age', 'session_id']).count().reset_index()\n",
    "#1er temps: on regroupe par achat et par age / ensuite on fait une moyenne du nombre d'achat par sessions\n",
    "panier_client = panier_client.groupby('age').mean().reset_index()\n",
    "panier_client = panier_client[['age', 'id_prod']]\n",
    "panier_client.tail()"
   ]
  },
  {
   "cell_type": "code",
   "execution_count": 76,
   "id": "f0ff59be",
   "metadata": {
    "scrolled": true
   },
   "outputs": [
    {
     "data": {
      "image/png": "[encoded data removed]",
      "text/plain": [
       "<Figure size 432x288 with 1 Axes>"
      ]
     },
     "metadata": {
      "needs_background": "light"
     },
     "output_type": "display_data"
    }
   ],
   "source": [
    "#Visualisation avec un scatterplot (âge client / taille panier moyen)\n",
    "plt.plot(panier_client.age, panier_client.id_prod, 'o', color='purple')\n",
    "\n",
    "plt.xlabel('age')\n",
    "plt.ylabel('Panier moyen (Nbe de produits)')\n",
    "plt.title('Panier moyen en nombre de produits selon l\\'age client')\n",
    "\n",
    "\n",
    "plt.show()"
   ]
  },
  {
   "cell_type": "code",
   "execution_count": 77,
   "id": "d76402b5",
   "metadata": {},
   "outputs": [],
   "source": [
    "#Subsets pour identifier les clusters clients \n",
    "customers_shop31 = panier_client[panier_client.age < 31]\n",
    "customers_shop3050 = panier_client[(panier_client.age > 31) & (panier_client.age < 50)]\n",
    "customers_shop50 = panier_client[panier_client.age > 51]"
   ]
  },
  {
   "cell_type": "code",
   "execution_count": 78,
   "id": "a0972f69",
   "metadata": {},
   "outputs": [
    {
     "data": {
      "image/png": "[encoded data removed]",
      "text/plain": [
       "<Figure size 432x288 with 1 Axes>"
      ]
     },
     "metadata": {
      "needs_background": "light"
     },
     "output_type": "display_data"
    }
   ],
   "source": [
    "#Visualisation avec scatterplot selon les groupes d'individus identifiés\n",
    "plt.plot(customers_shop31.age, customers_shop31.id_prod, '+', color='green')\n",
    "plt.plot(customers_shop3050.age, customers_shop3050.id_prod, '+', color='blue')\n",
    "plt.plot(customers_shop50.age, customers_shop50.id_prod, '+', color='red')\n",
    "\n",
    "plt.xlabel('age')\n",
    "plt.ylabel('Panier moyen (Nbe de produits)')\n",
    "plt.title('Panier moyen en nombre de produits selon l\\'age client')\n",
    "\n",
    "\n",
    "plt.show()"
   ]
  },
  {
   "cell_type": "code",
   "execution_count": 79,
   "id": "da0ecb8b",
   "metadata": {},
   "outputs": [
    {
     "data": {
      "text/plain": [
       "(-0.5738876097284993, 5.97709624666632e-08)"
      ]
     },
     "execution_count": 79,
     "metadata": {},
     "output_type": "execute_result"
    }
   ],
   "source": [
    "pearsonr(panier_client.age, panier_client.id_prod) "
   ]
  },
  {
   "cell_type": "markdown",
   "id": "3abc619d",
   "metadata": {},
   "source": [
    "Le test de corrélation démontre un certain lien (linéaire) entre l'âge du client et le panier moyen. -0.57 est à prendre on compte\n",
    "De plus visuellement nous pouvons clairement constater une difference de panier moyen selon les tranches d'ages (couleurs)"
   ]
  },
  {
   "cell_type": "code",
   "execution_count": 81,
   "id": "1c68f90c",
   "metadata": {},
   "outputs": [],
   "source": [
    "bin_labels=labels=['0 à 31', '32 à 50 ans', '51 à 94 ans']\n",
    "panier_client[\"age\"], bin_values = pd.cut(panier_client.age, bins=[0,31,50,94], labels=bin_labels,retbins=True)"
   ]
  },
  {
   "cell_type": "code",
   "execution_count": 82,
   "id": "357c6047",
   "metadata": {},
   "outputs": [
    {
     "data": {
      "text/html": [
       "<div>\n",
       "<style scoped>\n",
       "    .dataframe tbody tr th:only-of-type {\n",
       "        vertical-align: middle;\n",
       "    }\n",
       "\n",
       "    .dataframe tbody tr th {\n",
       "        vertical-align: top;\n",
       "    }\n",
       "\n",
       "    .dataframe thead th {\n",
       "        text-align: right;\n",
       "    }\n",
       "</style>\n",
       "<table border=\"1\" class=\"dataframe\">\n",
       "  <thead>\n",
       "    <tr style=\"text-align: right;\">\n",
       "      <th></th>\n",
       "      <th>Source</th>\n",
       "      <th>SS</th>\n",
       "      <th>DF</th>\n",
       "      <th>MS</th>\n",
       "      <th>F</th>\n",
       "      <th>p-unc</th>\n",
       "      <th>np2</th>\n",
       "    </tr>\n",
       "  </thead>\n",
       "  <tbody>\n",
       "    <tr>\n",
       "      <th>0</th>\n",
       "      <td>age</td>\n",
       "      <td>10.976931</td>\n",
       "      <td>2</td>\n",
       "      <td>5.488466</td>\n",
       "      <td>255.038449</td>\n",
       "      <td>1.154227e-33</td>\n",
       "      <td>0.874802</td>\n",
       "    </tr>\n",
       "    <tr>\n",
       "      <th>1</th>\n",
       "      <td>Within</td>\n",
       "      <td>1.570971</td>\n",
       "      <td>73</td>\n",
       "      <td>0.021520</td>\n",
       "      <td>NaN</td>\n",
       "      <td>NaN</td>\n",
       "      <td>NaN</td>\n",
       "    </tr>\n",
       "  </tbody>\n",
       "</table>\n",
       "</div>"
      ],
      "text/plain": [
       "   Source         SS  DF        MS           F         p-unc       np2\n",
       "0     age  10.976931   2  5.488466  255.038449  1.154227e-33  0.874802\n",
       "1  Within   1.570971  73  0.021520         NaN           NaN       NaN"
      ]
     },
     "execution_count": 82,
     "metadata": {},
     "output_type": "execute_result"
    }
   ],
   "source": [
    "pg.anova(dv='id_prod', between='age', data=panier_client,\n",
    "               detailed=True)"
   ]
  },
  {
   "cell_type": "markdown",
   "id": "d2fd2934",
   "metadata": {},
   "source": [
    "## Analyse de la corrélation entre l'âge clients et la catégorie produits\n"
   ]
  },
  {
   "cell_type": "code",
   "execution_count": 83,
   "id": "ec4240ce",
   "metadata": {},
   "outputs": [
    {
     "data": {
      "text/html": [
       "<div>\n",
       "<style scoped>\n",
       "    .dataframe tbody tr th:only-of-type {\n",
       "        vertical-align: middle;\n",
       "    }\n",
       "\n",
       "    .dataframe tbody tr th {\n",
       "        vertical-align: top;\n",
       "    }\n",
       "\n",
       "    .dataframe thead th {\n",
       "        text-align: right;\n",
       "    }\n",
       "</style>\n",
       "<table border=\"1\" class=\"dataframe\">\n",
       "  <thead>\n",
       "    <tr style=\"text-align: right;\">\n",
       "      <th>categ</th>\n",
       "      <th>0.0</th>\n",
       "      <th>1.0</th>\n",
       "      <th>2.0</th>\n",
       "    </tr>\n",
       "    <tr>\n",
       "      <th>categ_age</th>\n",
       "      <th></th>\n",
       "      <th></th>\n",
       "      <th></th>\n",
       "    </tr>\n",
       "  </thead>\n",
       "  <tbody>\n",
       "    <tr>\n",
       "      <th>10 - 19</th>\n",
       "      <td>3418</td>\n",
       "      <td>5719</td>\n",
       "      <td>6012</td>\n",
       "    </tr>\n",
       "    <tr>\n",
       "      <th>20 - 29</th>\n",
       "      <td>10994</td>\n",
       "      <td>20288</td>\n",
       "      <td>23051</td>\n",
       "    </tr>\n",
       "    <tr>\n",
       "      <th>30 - 39</th>\n",
       "      <td>119972</td>\n",
       "      <td>39905</td>\n",
       "      <td>4696</td>\n",
       "    </tr>\n",
       "    <tr>\n",
       "      <th>40 - 49</th>\n",
       "      <td>177018</td>\n",
       "      <td>54292</td>\n",
       "      <td>769</td>\n",
       "    </tr>\n",
       "    <tr>\n",
       "      <th>50 - 59</th>\n",
       "      <td>62257</td>\n",
       "      <td>53418</td>\n",
       "      <td>1056</td>\n",
       "    </tr>\n",
       "    <tr>\n",
       "      <th>60 - 69</th>\n",
       "      <td>24801</td>\n",
       "      <td>31757</td>\n",
       "      <td>550</td>\n",
       "    </tr>\n",
       "    <tr>\n",
       "      <th>70 - 79</th>\n",
       "      <td>11541</td>\n",
       "      <td>14610</td>\n",
       "      <td>219</td>\n",
       "    </tr>\n",
       "    <tr>\n",
       "      <th>80 - 89</th>\n",
       "      <td>4954</td>\n",
       "      <td>6458</td>\n",
       "      <td>122</td>\n",
       "    </tr>\n",
       "    <tr>\n",
       "      <th>90 - 99</th>\n",
       "      <td>504</td>\n",
       "      <td>722</td>\n",
       "      <td>8</td>\n",
       "    </tr>\n",
       "  </tbody>\n",
       "</table>\n",
       "</div>"
      ],
      "text/plain": [
       "categ         0.0    1.0    2.0\n",
       "categ_age                      \n",
       "10 - 19      3418   5719   6012\n",
       "20 - 29     10994  20288  23051\n",
       "30 - 39    119972  39905   4696\n",
       "40 - 49    177018  54292    769\n",
       "50 - 59     62257  53418   1056\n",
       "60 - 69     24801  31757    550\n",
       "70 - 79     11541  14610    219\n",
       "80 - 89      4954   6458    122\n",
       "90 - 99       504    722      8"
      ]
     },
     "execution_count": 83,
     "metadata": {},
     "output_type": "execute_result"
    }
   ],
   "source": [
    "age_categ = pd.crosstab(df_vente['categ_age'], df_vente['categ'])\n",
    "age_categ"
   ]
  },
  {
   "cell_type": "code",
   "execution_count": 84,
   "id": "70bbd597",
   "metadata": {
    "scrolled": true
   },
   "outputs": [
    {
     "data": {
      "text/html": [
       "<div>\n",
       "<style scoped>\n",
       "    .dataframe tbody tr th:only-of-type {\n",
       "        vertical-align: middle;\n",
       "    }\n",
       "\n",
       "    .dataframe tbody tr th {\n",
       "        vertical-align: top;\n",
       "    }\n",
       "\n",
       "    .dataframe thead th {\n",
       "        text-align: right;\n",
       "    }\n",
       "</style>\n",
       "<table border=\"1\" class=\"dataframe\">\n",
       "  <thead>\n",
       "    <tr style=\"text-align: right;\">\n",
       "      <th></th>\n",
       "      <th>age</th>\n",
       "      <th>categ</th>\n",
       "      <th>session_id</th>\n",
       "    </tr>\n",
       "  </thead>\n",
       "  <tbody>\n",
       "    <tr>\n",
       "      <th>0</th>\n",
       "      <td>19.0</td>\n",
       "      <td>0.0</td>\n",
       "      <td>3418</td>\n",
       "    </tr>\n",
       "    <tr>\n",
       "      <th>1</th>\n",
       "      <td>19.0</td>\n",
       "      <td>1.0</td>\n",
       "      <td>5719</td>\n",
       "    </tr>\n",
       "    <tr>\n",
       "      <th>2</th>\n",
       "      <td>19.0</td>\n",
       "      <td>2.0</td>\n",
       "      <td>6012</td>\n",
       "    </tr>\n",
       "    <tr>\n",
       "      <th>3</th>\n",
       "      <td>20.0</td>\n",
       "      <td>0.0</td>\n",
       "      <td>909</td>\n",
       "    </tr>\n",
       "    <tr>\n",
       "      <th>4</th>\n",
       "      <td>20.0</td>\n",
       "      <td>1.0</td>\n",
       "      <td>1678</td>\n",
       "    </tr>\n",
       "  </tbody>\n",
       "</table>\n",
       "</div>"
      ],
      "text/plain": [
       "    age  categ  session_id\n",
       "0  19.0    0.0        3418\n",
       "1  19.0    1.0        5719\n",
       "2  19.0    2.0        6012\n",
       "3  20.0    0.0         909\n",
       "4  20.0    1.0        1678"
      ]
     },
     "execution_count": 84,
     "metadata": {},
     "output_type": "execute_result"
    }
   ],
   "source": [
    "age_categ = df_vente.groupby(['age', 'categ']).count().reset_index()\n",
    "age_categ = age_categ[['age', 'categ', 'session_id']]\n",
    "age_categ.head()"
   ]
  },
  {
   "cell_type": "code",
   "execution_count": 85,
   "id": "7b855aab",
   "metadata": {},
   "outputs": [],
   "source": [
    "#Nous allons diviser la population en 3 catégories d'age pour mettre un test ANOVA"
   ]
  },
  {
   "cell_type": "code",
   "execution_count": 86,
   "id": "6e9e51e9",
   "metadata": {},
   "outputs": [],
   "source": [
    "age_categ['age']= pd.cut(age_categ['age'], 10)\n",
    "age_categ = age_categ.groupby(['age','categ']).sum().reset_index()\n",
    "#modifier nom COLONNE SESSION_ID"
   ]
  },
  {
   "cell_type": "code",
   "execution_count": 87,
   "id": "5ebec517",
   "metadata": {},
   "outputs": [
    {
     "data": {
      "text/html": [
       "<div>\n",
       "<style scoped>\n",
       "    .dataframe tbody tr th:only-of-type {\n",
       "        vertical-align: middle;\n",
       "    }\n",
       "\n",
       "    .dataframe tbody tr th {\n",
       "        vertical-align: top;\n",
       "    }\n",
       "\n",
       "    .dataframe thead th {\n",
       "        text-align: right;\n",
       "    }\n",
       "</style>\n",
       "<table border=\"1\" class=\"dataframe\">\n",
       "  <thead>\n",
       "    <tr style=\"text-align: right;\">\n",
       "      <th></th>\n",
       "      <th>age</th>\n",
       "      <th>categ</th>\n",
       "      <th>session_id</th>\n",
       "    </tr>\n",
       "  </thead>\n",
       "  <tbody>\n",
       "    <tr>\n",
       "      <th>0</th>\n",
       "      <td>(18.925, 26.5]</td>\n",
       "      <td>0.0</td>\n",
       "      <td>10849</td>\n",
       "    </tr>\n",
       "    <tr>\n",
       "      <th>1</th>\n",
       "      <td>(18.925, 26.5]</td>\n",
       "      <td>1.0</td>\n",
       "      <td>19687</td>\n",
       "    </tr>\n",
       "    <tr>\n",
       "      <th>2</th>\n",
       "      <td>(18.925, 26.5]</td>\n",
       "      <td>2.0</td>\n",
       "      <td>22072</td>\n",
       "    </tr>\n",
       "    <tr>\n",
       "      <th>3</th>\n",
       "      <td>(26.5, 34.0]</td>\n",
       "      <td>0.0</td>\n",
       "      <td>44964</td>\n",
       "    </tr>\n",
       "    <tr>\n",
       "      <th>4</th>\n",
       "      <td>(26.5, 34.0]</td>\n",
       "      <td>1.0</td>\n",
       "      <td>22000</td>\n",
       "    </tr>\n",
       "    <tr>\n",
       "      <th>5</th>\n",
       "      <td>(26.5, 34.0]</td>\n",
       "      <td>2.0</td>\n",
       "      <td>11331</td>\n",
       "    </tr>\n",
       "    <tr>\n",
       "      <th>6</th>\n",
       "      <td>(34.0, 41.5]</td>\n",
       "      <td>0.0</td>\n",
       "      <td>110235</td>\n",
       "    </tr>\n",
       "    <tr>\n",
       "      <th>7</th>\n",
       "      <td>(34.0, 41.5]</td>\n",
       "      <td>1.0</td>\n",
       "      <td>34301</td>\n",
       "    </tr>\n",
       "    <tr>\n",
       "      <th>8</th>\n",
       "      <td>(34.0, 41.5]</td>\n",
       "      <td>2.0</td>\n",
       "      <td>527</td>\n",
       "    </tr>\n",
       "    <tr>\n",
       "      <th>9</th>\n",
       "      <td>(41.5, 49.0]</td>\n",
       "      <td>0.0</td>\n",
       "      <td>145354</td>\n",
       "    </tr>\n",
       "  </tbody>\n",
       "</table>\n",
       "</div>"
      ],
      "text/plain": [
       "              age  categ  session_id\n",
       "0  (18.925, 26.5]    0.0       10849\n",
       "1  (18.925, 26.5]    1.0       19687\n",
       "2  (18.925, 26.5]    2.0       22072\n",
       "3    (26.5, 34.0]    0.0       44964\n",
       "4    (26.5, 34.0]    1.0       22000\n",
       "5    (26.5, 34.0]    2.0       11331\n",
       "6    (34.0, 41.5]    0.0      110235\n",
       "7    (34.0, 41.5]    1.0       34301\n",
       "8    (34.0, 41.5]    2.0         527\n",
       "9    (41.5, 49.0]    0.0      145354"
      ]
     },
     "execution_count": 87,
     "metadata": {},
     "output_type": "execute_result"
    }
   ],
   "source": [
    "age_categ.head(10)"
   ]
  },
  {
   "cell_type": "code",
   "execution_count": 88,
   "id": "2924ca10",
   "metadata": {
    "scrolled": false
   },
   "outputs": [
    {
     "data": {
      "image/png": "[encoded data removed]",
      "text/plain": [
       "<Figure size 1584x864 with 1 Axes>"
      ]
     },
     "metadata": {
      "needs_background": "light"
     },
     "output_type": "display_data"
    }
   ],
   "source": [
    "fig, ax = plt.subplots(figsize=(22, 12))\n",
    "sns.barplot(x=\"age\", y=\"session_id\",hue=\"categ\", data=age_categ)\n",
    "\n",
    "ax.set_xlabel('age')\n",
    "ax.set_ylabel('Nombre de produits vendus')\n",
    "ax.set_title('Catégories produits selon l\\'âge client')\n",
    "\n",
    "plt.show()"
   ]
  },
  {
   "cell_type": "code",
   "execution_count": 89,
   "id": "d7cd17d3",
   "metadata": {},
   "outputs": [
    {
     "data": {
      "text/html": [
       "<div>\n",
       "<style scoped>\n",
       "    .dataframe tbody tr th:only-of-type {\n",
       "        vertical-align: middle;\n",
       "    }\n",
       "\n",
       "    .dataframe tbody tr th {\n",
       "        vertical-align: top;\n",
       "    }\n",
       "\n",
       "    .dataframe thead th {\n",
       "        text-align: right;\n",
       "    }\n",
       "</style>\n",
       "<table border=\"1\" class=\"dataframe\">\n",
       "  <thead>\n",
       "    <tr style=\"text-align: right;\">\n",
       "      <th></th>\n",
       "      <th>Source</th>\n",
       "      <th>SS</th>\n",
       "      <th>DF</th>\n",
       "      <th>MS</th>\n",
       "      <th>F</th>\n",
       "      <th>p-unc</th>\n",
       "      <th>np2</th>\n",
       "    </tr>\n",
       "  </thead>\n",
       "  <tbody>\n",
       "    <tr>\n",
       "      <th>0</th>\n",
       "      <td>categ</td>\n",
       "      <td>7.181236e+09</td>\n",
       "      <td>2</td>\n",
       "      <td>3.590618e+09</td>\n",
       "      <td>4.034649</td>\n",
       "      <td>0.029302</td>\n",
       "      <td>0.230096</td>\n",
       "    </tr>\n",
       "    <tr>\n",
       "      <th>1</th>\n",
       "      <td>Within</td>\n",
       "      <td>2.402853e+10</td>\n",
       "      <td>27</td>\n",
       "      <td>8.899455e+08</td>\n",
       "      <td>NaN</td>\n",
       "      <td>NaN</td>\n",
       "      <td>NaN</td>\n",
       "    </tr>\n",
       "  </tbody>\n",
       "</table>\n",
       "</div>"
      ],
      "text/plain": [
       "   Source            SS  DF            MS         F     p-unc       np2\n",
       "0   categ  7.181236e+09   2  3.590618e+09  4.034649  0.029302  0.230096\n",
       "1  Within  2.402853e+10  27  8.899455e+08       NaN       NaN       NaN"
      ]
     },
     "execution_count": 89,
     "metadata": {},
     "output_type": "execute_result"
    }
   ],
   "source": [
    "pg.anova(dv='session_id', between='categ', data=age_categ,\n",
    "               detailed=True)"
   ]
  },
  {
   "cell_type": "markdown",
   "id": "ba6f9d4d",
   "metadata": {},
   "source": [
    "Le rapport de corrélation est proche de 0.23, ce qui précise le précédent graphique dans lequel une certaine corrélation entre les catégories et l'âge client. Il est perceptible de voir le lien que peut avoir une catégorie en fonction d'une tranche d'âges, avec par exemple un fort succès de la catégorie 0 pour les 34 / 49 ans, ou à l'inverse une clientèle plus âgée n'adhère quasiment pas à cette catégorie, etc.."
   ]
  },
  {
   "cell_type": "code",
   "execution_count": null,
   "id": "5bb995a6",
   "metadata": {},
   "outputs": [],
   "source": []
  }
 ],
 "metadata": {
  "kernelspec": {
   "display_name": "Python 3 (ipykernel)",
   "language": "python",
   "name": "python3"
  },
  "language_info": {
   "codemirror_mode": {
    "name": "ipython",
    "version": 3
   },
   "file_extension": ".py",
   "mimetype": "text/x-python",
   "name": "python",
   "nbconvert_exporter": "python",
   "pygments_lexer": "ipython3",
   "version": "3.9.7"
  },
  "toc": {
   "base_numbering": 1,
   "nav_menu": {},
   "number_sections": true,
   "sideBar": true,
   "skip_h1_title": false,
   "title_cell": "Table of Contents",
   "title_sidebar": "Contents",
   "toc_cell": false,
   "toc_position": {
    "height": "541.6px",
    "left": "37px",
    "top": "110.325px",
    "width": "457.825px"
   },
   "toc_section_display": true,
   "toc_window_display": true
  }
 },
 "nbformat": 4,
 "nbformat_minor": 5
}
